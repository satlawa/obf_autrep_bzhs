{
 "cells": [
  {
   "cell_type": "code",
   "execution_count": 1,
   "metadata": {},
   "outputs": [],
   "source": [
    "import os\n",
    "import numpy as np\n",
    "import pandas as pd\n",
    "from reportlab.pdfgen import canvas\n",
    "import matplotlib.pyplot as plt\n",
    "\n",
    "# in use\n",
    "import time\n",
    "from reportlab.lib.enums import TA_JUSTIFY\n",
    "from reportlab.lib.pagesizes import letter, landscape, A4\n",
    "from reportlab.platypus import SimpleDocTemplate, Paragraph, Spacer, Image\n",
    "from reportlab.lib.styles import getSampleStyleSheet, ParagraphStyle\n",
    "from reportlab.lib.units import inch\n",
    "\n",
    "from OBFEinschlag import OBFEinschlag"
   ]
  },
  {
   "cell_type": "code",
   "execution_count": 2,
   "metadata": {},
   "outputs": [],
   "source": [
    "#path_dir = \"/Users/philipp/Code/fe_recognition/bon/data\"\n",
    "path_dir = os.path.join(os.getcwd(), 'data')\n",
    "data = pd.read_csv(path_dir + \"/Hiebssatzbilanz_2018_171.xls\", sep='\\t', decimal=',', encoding = \"ISO-8859-1\", error_bad_lines=False)\n",
    "obf_es = OBFEinschlag(data)\n",
    "fb = 171"
   ]
  },
  {
   "cell_type": "code",
   "execution_count": 3,
   "metadata": {},
   "outputs": [],
   "source": [
    "es, hs, bilz, bilz_ub = obf_es.filter_data(fr=[10])"
   ]
  },
  {
   "cell_type": "code",
   "execution_count": 4,
   "metadata": {},
   "outputs": [],
   "source": [
    "def position(data, kind='all'):\n",
    "    \n",
    "    w_p_org, h_p_org = landscape(A4)\n",
    "    mm = w_p_org/297\n",
    "    \n",
    "    if kind == 'all':\n",
    "        if data < 10:\n",
    "            pos = mm*3\n",
    "        elif data < 100:\n",
    "            pos = mm*4\n",
    "        else:\n",
    "            pos = mm*6\n",
    "            \n",
    "    elif kind == 'lh':\n",
    "        if data < 10:\n",
    "            pos = mm*8\n",
    "        elif data < 100:\n",
    "            pos = mm*9\n",
    "        else:\n",
    "            pos = mm*11\n",
    "            \n",
    "    elif kind == 'nh':\n",
    "        if data < 10:\n",
    "            pos = mm*3\n",
    "        elif data < 100:\n",
    "            pos = mm*2\n",
    "        else:\n",
    "            pos = mm*1\n",
    "    return(pos)"
   ]
  },
  {
   "cell_type": "code",
   "execution_count": 5,
   "metadata": {
    "scrolled": true
   },
   "outputs": [],
   "source": [
    "def make_bilz_hs(obf_es, fr):\n",
    "\n",
    "    key_data = obf_es.fuc_tbl(fr=[fr])\n",
    "\n",
    "    c = canvas.Canvas(\"graph_\" + str(fr) + \".pdf\",pagesize=landscape(A4))\n",
    "\n",
    "    # weights\n",
    "    w_p_org, h_p_org = landscape(A4)\n",
    "\n",
    "    mm = w_p_org/297\n",
    "    marg = 15 * mm\n",
    "\n",
    "    w_p = w_p_org - 2*marg\n",
    "    h_p = h_p_org - 2*marg\n",
    "\n",
    "    w_g = w_p/3\n",
    "    h_g = w_g*1.1\n",
    "    #h_g = h_p*0.55\n",
    "\n",
    "    print(w_p_org)\n",
    "    print(w_p)\n",
    "    print(w_g)\n",
    "\n",
    "\n",
    "    #c.drawString(2*inch,2*inch,\"Welcome to Reportlab!\")\n",
    "\n",
    "    y_max, y_min = obf_es.max_min([fr])\n",
    "\n",
    "    ##############\n",
    "    # graphs\n",
    "    ##############\n",
    "\n",
    "    # calc bilanzierter HS \n",
    "    es, hs, bilz, bilz_ub = obf_es.filter_data([fr], group=False)\n",
    "    bilz = obf_es.bilanzierter_HS(es, hs)\n",
    "    laufzeit, rest_laufzeit, year_start, year_now, hs_year = obf_es.get_time(es, hs)\n",
    "\n",
    "    for i in [['Ges','Gesamt',0], ['EN','Endnutzung',1], ['VN','Vornutzung',2]]:\n",
    "\n",
    "        # create table\n",
    "        table = obf_es.fuc_tbl_hiebsatzbilanz([fr], i, kind='all', y_max=y_max, y_min=y_min)\n",
    "        #table = obf_es.fuc_tbl_hiebsatzbilanz([1030], [2], i, y_max, y_min)\n",
    "        #c.drawImage(\"tempx.png\", (i[2]*3+0.3)*inch, 2*inch, width=3*inch, height=2.6*inch)    \n",
    "    hses = obf_es.fuc_tbl_pie([fr], hs_year*laufzeit)\n",
    "\n",
    "    for i in [[0,-1.5,-3.5],[1,-0.5,-0.5],[2,0.5,2.5]]:\n",
    "        c.drawImage(\"tempx_\" + str(i[0]) + \".png\", w_p_org*0.5 + i[1]*w_g, marg + h_p*0.15, width=w_g, height=h_g)\n",
    "        c.drawImage(\"tempp_\" + str(i[0]) + \".png\", w_p_org*0.5 + i[2]*w_g/3, marg + h_p*0.71, width=w_g/3, height=w_g/3)\n",
    "\n",
    "    # create colors for graph\n",
    "    #laufzeit, rest_laufzeit, year_start, year_now, hs_year = obf_es.get_time(es, hs)\n",
    "    colors = obf_es.create_colors(laufzeit, rest_laufzeit)\n",
    "    # calc data_hs_es_percent and plot it\n",
    "    data_hs_es_percent = obf_es.calc_hs_es_percent(es, hs, bilz)\n",
    "    obf_es.plot_hs_es_percent(data_hs_es_percent, colors)\n",
    "    c.drawImage(\"temp_per.png\", w_p_org*0.5 - w_g, marg, width=w_g*2, height=w_g*0.27) \n",
    "\n",
    "\n",
    "    ##############\n",
    "    # draw lines\n",
    "    ##############\n",
    "\n",
    "    # coose colors\n",
    "    c.setStrokeColorRGB(0.2,0.5,0.3)\n",
    "    c.line(marg, marg, w_p_org - marg, marg)\n",
    "    c.line(marg, marg + h_p*0.15, w_p_org - marg, marg + h_p*0.15)\n",
    "    c.line(marg, marg + h_p*0.7, w_p_org - marg, marg + h_p*0.7)\n",
    "    c.line(marg, marg + h_p*0.88, w_p_org - marg, marg + h_p*0.88)\n",
    "    c.line(marg, marg + h_p*0.92, w_p_org - marg, marg + h_p*0.92)\n",
    "\n",
    "    for i in [[0,w_p_org*0.5-w_g], [1,w_p_org*0.5], [2,w_p_org*0.5+w_g]]:\n",
    "        c.line(i[1] - w_g/2, marg + h_p*0.79, i[1] - w_g/4, marg + h_p*0.79)\n",
    "        c.line(i[1] + w_g/4, marg + h_p*0.79, i[1] + w_g/2, marg + h_p*0.79)\n",
    "\n",
    "    c.setFillColorRGB(0.2,0.5,0.3)\n",
    "    c.rect(marg, h_p_org - marg - mm*10, w_p, mm*10, fill=1)\n",
    "\n",
    "    c.setStrokeColorRGB(1,1,1)\n",
    "    c.setFillColorRGB(1,1,1)\n",
    "    c.rect(w_p_org/2-w_g/2-mm*2.5, marg + h_p*0.65,  mm*5, h_p*0.28 , fill=1)\n",
    "    c.rect(w_p_org/2+w_g/2-mm*2.5, marg + h_p*0.65,  mm*5, h_p*0.28 , fill=1)\n",
    "    #c.setStrokeColorRGB(0,0,0)\n",
    "    #c.line(w_p_org/2, 0, w_p_org/2, h_p)\n",
    "\n",
    "\n",
    "    ##############\n",
    "    # text\n",
    "    ##############\n",
    "\n",
    "    #\n",
    "    c.setFont(\"Helvetica\", 8)\n",
    "    c.setFillColorRGB(0,0,0)\n",
    "    c.drawString(w_p_org*0.5 - w_g*1.3, marg + h_p*0.016, \"Prozent [%]\")\n",
    "    c.setFont(\"Helvetica\", 11)\n",
    "    c.drawString(w_p_org*0.5 - w_g*1.4, marg + h_p*0.096, \"Gesamt Hiebssatz\")\n",
    "    c.drawString(w_p_org*0.5 - w_g*1.4, marg + h_p*0.046, \"Gesamt Einschlag\")\n",
    "\n",
    "    c.drawString(w_p_org*0.5 + w_g*1, marg + h_p*0.096, \"Laufzeit Teiloperat\")\n",
    "    c.drawString(w_p_org*0.5 + w_g*1.07, marg + h_p*0.046, str(year_start) + \" - \" + str(year_start+laufzeit-1))\n",
    "\n",
    "\n",
    "\n",
    "    # percentage\n",
    "    c.setFont(\"Helvetica\", 14)\n",
    "    c.setFillColorRGB(0,0,0)\n",
    "    for i in [[0,w_p_org*0.5-w_g], [1,w_p_org*0.5], [2,w_p_org*0.5+w_g]]:\n",
    "        es_per = int(round(hses[i[0]][0]/hses[i[0]][1]*100))        \n",
    "        c.drawString(i[1] - position(es_per), marg + h_p*0.783, str(es_per) + \"%\")\n",
    "    # data - HS, ES, Bilz HS\n",
    "    c.setFont(\"Helvetica\", 14)\n",
    "    c.setFillColorRGB(0,0,0)\n",
    "    for i in [[0, w_p_org*0.5-w_g, bilz[\"Summe\"]], [1, w_p_org*0.5, bilz[\"ENLH\"]+bilz[\"ENNH\"]], [2,w_p_org*0.5+w_g, bilz[\"VNLH\"]+bilz[\"VNNH\"]]]:\n",
    "        # Hiebssatz\n",
    "        c.drawString(i[1] - w_g/2 + mm*5, marg + h_p*0.805, str(int(key_data[1][i[0]])))\n",
    "        # Einschlag\n",
    "        c.drawString(i[1] - w_g/2 + mm*5, marg + h_p*0.715, str(int(round(key_data[0][i[0]],0))))\n",
    "        # Bilanz HS - negativ berücksichtigt\n",
    "        c.drawString(i[1] + w_g/2 - mm*22, marg + h_p*0.805, str(int(round(i[2]))))\n",
    "        # Bilanz HS - negativ nicht berücksichtigt\n",
    "        c.drawString(i[1] + w_g/2 - mm*22, marg + h_p*0.715, str(int(round(key_data[2][i[0]],0))))\n",
    "    # subtitle\n",
    "    c.setFont(\"Helvetica\", 5)\n",
    "    c.setFillColorRGB(0,0,0)    \n",
    "    for i in [w_p_org*0.5-w_g, w_p_org*0.5, w_p_org*0.5+w_g]:\n",
    "        c.drawString(i - w_g/2 + mm*5, marg + h_p*0.835, \"jährlicher\")\n",
    "        c.drawString(i - w_g/2 + mm*5, marg + h_p*0.745, \"mittlerer jährlicher\")\n",
    "        c.drawString(i + w_g/2 - mm*22, marg + h_p*0.835, \"Negativ berücksichtigt\")\n",
    "        c.drawString(i + w_g/2 - mm*22, marg + h_p*0.745, \"Negativ unberücksichtigt\")\n",
    "    # title\n",
    "    c.setFont(\"Helvetica\", 9)\n",
    "    c.setFillColorRGB(0,0,0)\n",
    "    for i in [w_p_org*0.5-w_g, w_p_org*0.5, w_p_org*0.5+w_g]:\n",
    "        c.drawString(i - w_g/2 + mm*5, marg + h_p*0.85, \"Hiebssatz\")\n",
    "        c.drawString(i - w_g/2 + mm*5, marg + h_p*0.76, \"Einschlag\")\n",
    "        c.drawString(i + w_g/2 - mm*22, marg + h_p*0.85, \"Bilz Hiebssatz\")\n",
    "        c.drawString(i + w_g/2 - mm*22, marg + h_p*0.76, \"Bilz Hiebssatz\")\n",
    "    # \n",
    "    c.setFont(\"Helvetica\", 15)\n",
    "    c.setFillColorRGB(0,0,0)\n",
    "    c.drawString(w_p_org*0.5 - w_g - mm*10, marg + h_p*0.89, \"Gesamt\")\n",
    "    c.drawString(w_p_org*0.5 - mm*15, marg + h_p*0.89, \"Endnutzung\")\n",
    "    c.drawString(w_p_org*0.5 + w_g - mm*15, marg + h_p*0.89, \"Vornutzung\")\n",
    "    # define font\n",
    "    c.setFont(\"Helvetica\", 20)\n",
    "    c.setFillColorRGB(1,1,1)\n",
    "    c.drawString(w_p_org*0.5 - mm*24, h_p_org - marg - mm*7.5, \"FB \" + str(fb) + \" - FR \" + str(fr))\n",
    "\n",
    "    c.save()\n",
    "    print('FB ' + str(fb) + ' - FR ' + str(fr))"
   ]
  },
  {
   "cell_type": "code",
   "execution_count": 6,
   "metadata": {
    "scrolled": true
   },
   "outputs": [],
   "source": [
    "# LH / NH\n",
    "\n",
    "def make_bilz_hs_lh_nh(obf_es, fr):\n",
    "\n",
    "    key_data = obf_es.fuc_tbl(fr=[fr], kind='lh_nh')\n",
    "\n",
    "    c = canvas.Canvas(\"graph_\" + str(fr) + \"_lh_nh.pdf\",pagesize=landscape(A4))\n",
    "\n",
    "    # weights\n",
    "    w_p_org, h_p_org = landscape(A4)\n",
    "\n",
    "    mm = w_p_org/297\n",
    "    marg = 15 * mm\n",
    "\n",
    "    w_p = w_p_org - 2*marg\n",
    "    h_p = h_p_org - 2*marg\n",
    "\n",
    "    w_g = w_p/3\n",
    "    h_g = w_g*1.2\n",
    "\n",
    "    print(w_p_org)\n",
    "    print(w_p)\n",
    "    print(w_g)\n",
    "\n",
    "\n",
    "    #c.drawString(2*inch,2*inch,\"Welcome to Reportlab!\")\n",
    "\n",
    "    y_max, y_min = obf_es.max_min([fr])\n",
    "\n",
    "    # calc bilanzierter HS \n",
    "    es, hs, bilz, bilz_ub = obf_es.filter_data([fr], group=False)\n",
    "    bilz = obf_es.bilanzierter_HS(es, hs)\n",
    "    laufzeit, rest_laufzeit, year_start, year_now, hs_year = obf_es.get_time(es, hs)\n",
    "\n",
    "    for i in [['Ges','Gesamt',0], ['EN','Endnutzung',1], ['VN','Vornutzung',2]]:\n",
    "\n",
    "        # create table\n",
    "        table = obf_es.fuc_tbl_hiebsatzbilanz([fr], i, kind='lh_nh', y_max=y_max, y_min=y_min)\n",
    "        #table = obf_es.fuc_tbl_hiebsatzbilanz([1030], [2], i, y_max, y_min)\n",
    "        #c.drawImage(\"tempx.png\", (i[2]*3+0.3)*inch, 2*inch, width=3*inch, height=2.6*inch)    \n",
    "    hses = obf_es.fuc_tbl_pie_lh_nh([fr], hs_year*laufzeit)\n",
    "\n",
    "    for i in [[0,-1.5,-2.5],[1,-0.5,-0.5],[2,0.5,1.5]]:\n",
    "        c.drawImage(\"tempx_\" + str(i[0]) + \".png\", w_p_org*0.5 + i[1]*w_g, marg, width=w_g, height=h_g)\n",
    "        c.drawImage(\"temp_lh_nh_\" + str(i[0]) + \".png\", w_p_org*0.5 + i[2]*w_g/2, marg + h_p*0.62, width=w_g/2, height=w_g/2)\n",
    "\n",
    "    #es, hs, bilz = obf_es.filter_data([fr], group=False)\n",
    "    #bilz = obf_es.bilanzierter_HS(es, hs)\n",
    "\n",
    "    # draw lines\n",
    "\n",
    "    # coose colors\n",
    "    c.setStrokeColorRGB(0.2,0.5,0.3)\n",
    "    c.line(marg, marg, w_p_org - marg, marg)\n",
    "    c.line(marg, marg + h_p*0.61, w_p_org - marg, marg + h_p*0.61)\n",
    "    c.line(marg, marg + h_p*0.88, w_p_org - marg, marg + h_p*0.88)\n",
    "    c.line(marg, marg + h_p*0.92, w_p_org - marg, marg + h_p*0.92)\n",
    "    for j in [0.7, 0.79]:\n",
    "        for i in [[0,w_p_org*0.5-w_g], [1,w_p_org*0.5], [2,w_p_org*0.5+w_g]]:\n",
    "            c.line(i[1] - w_g/2, marg + h_p*j, i[1] - w_g/4, marg + h_p*j)\n",
    "            c.line(i[1] + w_g/4, marg + h_p*j, i[1] + w_g/2, marg + h_p*j)\n",
    "\n",
    "    c.setFillColorRGB(0.2,0.5,0.3)\n",
    "    c.rect(marg, h_p_org - marg - mm*10, w_p, mm*10, fill=1)\n",
    "\n",
    "    c.setStrokeColorRGB(1,1,1)\n",
    "    c.setFillColorRGB(1,1,1)\n",
    "    c.rect(w_p_org/2-w_g/2-mm*2.5, marg + h_p*0.6,  mm*5, h_p*0.33 , fill=1)\n",
    "    c.rect(w_p_org/2+w_g/2-mm*2.5, marg + h_p*0.6,  mm*5, h_p*0.33 , fill=1)\n",
    "    #c.line(w_p_org/2, 0, w_p_org/2, h_p)\n",
    "\n",
    "    # percentage\n",
    "    c.setFont(\"Helvetica\", 11)\n",
    "    c.setFillColorRGB(0,0,0)\n",
    "    for i in [[0,w_p_org*0.5-w_g], [1,w_p_org*0.5], [2,w_p_org*0.5+w_g]]:\n",
    "        if hses[i[0]][1] == 0:\n",
    "            es_per_lh = 0\n",
    "        else:\n",
    "            es_per_lh = int(round(hses[i[0]][0]/hses[i[0]][1]*100))\n",
    "        es_per_nh = int(round(hses[i[0]][2]/hses[i[0]][3]*100))\n",
    "        c.drawString(i[1] - position(es_per_lh, kind='lh'), marg + h_p*0.735, str(es_per_lh) + \"%\")\n",
    "        c.drawString(i[1] + position(es_per_nh, kind='nh'), marg + h_p*0.735, str(es_per_nh) + \"%\")\n",
    "    # data - HS, ES, Bilz HS\n",
    "    c.setFont(\"Helvetica\", 14)\n",
    "    c.setFillColorRGB(0,0,0)\n",
    "    'ENLH', 'ENNH', 'VNLH', 'VNNH', 'Summe'\n",
    "    for i in [[0, w_p_org*0.5-w_g, bilz[\"ENLH\"]+bilz[\"VNLH\"], bilz[\"ENNH\"]+bilz[\"VNNH\"]], \n",
    "              [2, w_p_org*0.5, bilz[\"ENLH\"], bilz[\"ENNH\"]], \n",
    "              [4, w_p_org*0.5+w_g, bilz[\"VNLH\"], bilz[\"VNNH\"]]]:\n",
    "        c.drawString(i[1] - w_g/2 + mm*5, marg + h_p*0.805, str(int(key_data[1][i[0]])))\n",
    "        c.drawString(i[1] - w_g/2 + mm*5, marg + h_p*0.715, str(int(round(key_data[0][i[0]],0))))\n",
    "        c.drawString(i[1] - w_g/2 + mm*5, marg + h_p*0.625, str(int(round(i[2],0))))\n",
    "        c.drawString(i[1] + w_g/2 - mm*22, marg + h_p*0.805, str(int(key_data[1][i[0]+1])))\n",
    "        c.drawString(i[1] + w_g/2 - mm*22, marg + h_p*0.715, str(int(round(key_data[0][i[0]+1],0))))\n",
    "        c.drawString(i[1] + w_g/2 - mm*22, marg + h_p*0.625, str(int(round(i[3],0))))\n",
    "    # subtitle\n",
    "    c.setFont(\"Helvetica\", 5)\n",
    "    c.setFillColorRGB(0,0,0)    \n",
    "    for i in [w_p_org*0.5-w_g, w_p_org*0.5, w_p_org*0.5+w_g]:\n",
    "        c.drawString(i - w_g/2 + mm*5, marg + h_p*0.835, \"jährlicher\")\n",
    "        c.drawString(i - w_g/2 + mm*5, marg + h_p*0.745, \"mittlerer jährlicher\")\n",
    "        c.drawString(i - w_g/2 + mm*5, marg + h_p*0.655, \"Negativ berücksichtigt\")\n",
    "        c.drawString(i + w_g/2 - mm*22, marg + h_p*0.835, \"jährlicher\")\n",
    "        c.drawString(i + w_g/2 - mm*22, marg + h_p*0.745, \"mittlerer jährlicher\")\n",
    "        c.drawString(i + w_g/2 - mm*22, marg + h_p*0.655, \"Negativ berücksichtigt\")\n",
    "    # title\n",
    "    c.setFont(\"Helvetica\", 9)\n",
    "    c.setFillColorRGB(0,0,0)\n",
    "    for i in [w_p_org*0.5-w_g, w_p_org*0.5, w_p_org*0.5+w_g]:\n",
    "        c.drawString(i - w_g/2 + mm*5, marg + h_p*0.85, \"Hiebssatz\")\n",
    "        c.drawString(i - w_g/2 + mm*5, marg + h_p*0.76, \"Einschlag\")\n",
    "        c.drawString(i - w_g/2 + mm*5, marg + h_p*0.67, \"Bilz Hiebssatz\")\n",
    "        c.drawString(i + w_g/2 - mm*22, marg + h_p*0.85, \"Hiebssatz\")\n",
    "        c.drawString(i + w_g/2 - mm*22, marg + h_p*0.76, \"Einschlag\")\n",
    "        c.drawString(i + w_g/2 - mm*22, marg + h_p*0.67, \"Bilz Hiebssatz\")\n",
    "    # \n",
    "    c.setFont(\"Helvetica\", 15)\n",
    "    c.setFillColorRGB(0,0,0)\n",
    "    c.drawString(w_p_org*0.5 - w_g - mm*10, marg + h_p*0.89, \"Gesamt\")\n",
    "    c.drawString(w_p_org*0.5 - mm*15, marg + h_p*0.89, \"Endnutzung\")\n",
    "    c.drawString(w_p_org*0.5 + w_g - mm*15, marg + h_p*0.89, \"Vornutzung\")\n",
    "    #\n",
    "    c.setFont(\"Helvetica\", 11)\n",
    "    c.setFillColorRGB(0,0,0)\n",
    "    for i in [w_p_org*0.5 - w_g, w_p_org*0.5, w_p_org*0.5 + w_g]:\n",
    "        c.drawString(i - w_g/2 + mm*10, marg + h_p*0.89, \"LH\")\n",
    "        c.drawString(i + w_g/2 - mm*15, marg + h_p*0.89, \"NH\")\n",
    "    # define font\n",
    "    c.setFont(\"Helvetica\", 20)\n",
    "    c.setFillColorRGB(1,1,1)\n",
    "    c.drawString(w_p_org*0.5 - mm*24, h_p_org - marg - mm*7.5, \"FB \" + str(fb) + \" - FR \" + str(fr))\n",
    "\n",
    "    c.save()\n",
    "    print(\"FB \" + str(fb) + \" - FR \" + str(fr))"
   ]
  },
  {
   "cell_type": "code",
   "execution_count": 8,
   "metadata": {
    "scrolled": true
   },
   "outputs": [
    {
     "name": "stdout",
     "output_type": "stream",
     "text": [
      "841.8897637795277\n",
      "756.8503937007875\n",
      "252.28346456692918\n",
      "[1048]\n"
     ]
    },
    {
     "name": "stderr",
     "output_type": "stream",
     "text": [
      "/Users/philipp/Python/anaconda3/lib/python3.6/site-packages/pandas/core/ops.py:1037: RuntimeWarning: divide by zero encountered in true_divide\n",
      "  lambda x: op(x, rvalues))\n"
     ]
    },
    {
     "name": "stdout",
     "output_type": "stream",
     "text": [
      "FB 171 - FR 1048\n"
     ]
    },
    {
     "data": {
      "image/png": "[encoded data removed]",
      "text/plain": [
       "<Figure size 432x288 with 1 Axes>"
      ]
     },
     "metadata": {},
     "output_type": "display_data"
    },
    {
     "data": {
      "image/png": "[encoded data removed]",
      "text/plain": [
       "<Figure size 432x288 with 1 Axes>"
      ]
     },
     "metadata": {},
     "output_type": "display_data"
    },
    {
     "data": {
      "image/png": "[encoded data removed]",
      "text/plain": [
       "<Figure size 432x288 with 1 Axes>"
      ]
     },
     "metadata": {},
     "output_type": "display_data"
    },
    {
     "data": {
      "image/png": "[encoded data removed]",
      "text/plain": [
       "<Figure size 936x93.6 with 1 Axes>"
      ]
     },
     "metadata": {
      "needs_background": "light"
     },
     "output_type": "display_data"
    }
   ],
   "source": [
    "make_bilz_hs(obf_es, 1048)"
   ]
  },
  {
   "cell_type": "code",
   "execution_count": 6,
   "metadata": {
    "scrolled": true
   },
   "outputs": [
    {
     "name": "stdout",
     "output_type": "stream",
     "text": [
      "841.8897637795277\n",
      "756.8503937007875\n",
      "252.28346456692918\n",
      "[1048]\n"
     ]
    },
    {
     "name": "stderr",
     "output_type": "stream",
     "text": [
      "/Users/philipp/Python/anaconda3/lib/python3.6/site-packages/pandas/core/ops.py:1037: RuntimeWarning: divide by zero encountered in true_divide\n",
      "  lambda x: op(x, rvalues))\n"
     ]
    },
    {
     "name": "stdout",
     "output_type": "stream",
     "text": [
      "FB 171 - FR 1048\n"
     ]
    },
    {
     "data": {
      "image/png": "[encoded data removed]",
      "text/plain": [
       "<Figure size 432x288 with 1 Axes>"
      ]
     },
     "metadata": {},
     "output_type": "display_data"
    },
    {
     "data": {
      "image/png": "[encoded data removed]",
      "text/plain": [
       "<Figure size 432x288 with 1 Axes>"
      ]
     },
     "metadata": {},
     "output_type": "display_data"
    },
    {
     "data": {
      "image/png": "[encoded data removed]",
      "text/plain": [
       "<Figure size 432x288 with 1 Axes>"
      ]
     },
     "metadata": {},
     "output_type": "display_data"
    }
   ],
   "source": [
    "make_bilz_hs_lh_nh(obf_es, 1048)"
   ]
  },
  {
   "cell_type": "code",
   "execution_count": 6,
   "metadata": {
    "scrolled": true
   },
   "outputs": [
    {
     "name": "stdout",
     "output_type": "stream",
     "text": [
      "841.8897637795277\n",
      "756.8503937007875\n",
      "252.28346456692918\n"
     ]
    },
    {
     "name": "stderr",
     "output_type": "stream",
     "text": [
      "/Users/philipp/Python/anaconda3/lib/python3.6/site-packages/pandas/core/ops.py:1037: RuntimeWarning: divide by zero encountered in true_divide\n",
      "  lambda x: op(x, rvalues))\n"
     ]
    },
    {
     "name": "stdout",
     "output_type": "stream",
     "text": [
      "FB 171 - FR 0\n",
      "841.8897637795277\n",
      "756.8503937007875\n",
      "252.28346456692918\n",
      "FB 171 - FR 1\n"
     ]
    },
    {
     "data": {
      "image/png": "[encoded data removed]",
      "text/plain": [
       "<Figure size 432x288 with 1 Axes>"
      ]
     },
     "metadata": {},
     "output_type": "display_data"
    },
    {
     "data": {
      "image/png": "[encoded data removed]",
      "text/plain": [
       "<Figure size 432x288 with 1 Axes>"
      ]
     },
     "metadata": {},
     "output_type": "display_data"
    },
    {
     "data": {
      "image/png": "[encoded data removed]",
      "text/plain": [
       "<Figure size 432x288 with 1 Axes>"
      ]
     },
     "metadata": {},
     "output_type": "display_data"
    },
    {
     "data": {
      "image/png": "[encoded data removed]",
      "text/plain": [
       "<Figure size 432x288 with 1 Axes>"
      ]
     },
     "metadata": {},
     "output_type": "display_data"
    },
    {
     "data": {
      "image/png": "[encoded data removed]",
      "text/plain": [
       "<Figure size 432x288 with 1 Axes>"
      ]
     },
     "metadata": {},
     "output_type": "display_data"
    },
    {
     "data": {
      "image/png": "[encoded data removed]",
      "text/plain": [
       "<Figure size 432x288 with 1 Axes>"
      ]
     },
     "metadata": {},
     "output_type": "display_data"
    }
   ],
   "source": [
    "for i in range(2):\n",
    "    make_bilz_hs_lh_nh(obf_es, i)"
   ]
  },
  {
   "cell_type": "code",
   "execution_count": 9,
   "metadata": {
    "scrolled": true
   },
   "outputs": [
    {
     "name": "stdout",
     "output_type": "stream",
     "text": [
      "841.8897637795277\n",
      "756.8503937007875\n",
      "252.28346456692918\n",
      "[10]\n",
      "FB 171 - FR 10\n"
     ]
    },
    {
     "data": {
      "image/png": "[encoded data removed]",
      "text/plain": [
       "<Figure size 432x288 with 1 Axes>"
      ]
     },
     "metadata": {},
     "output_type": "display_data"
    },
    {
     "data": {
      "image/png": "[encoded data removed]",
      "text/plain": [
       "<Figure size 432x288 with 1 Axes>"
      ]
     },
     "metadata": {},
     "output_type": "display_data"
    },
    {
     "data": {
      "image/png": "[encoded data removed]",
      "text/plain": [
       "<Figure size 432x288 with 1 Axes>"
      ]
     },
     "metadata": {},
     "output_type": "display_data"
    },
    {
     "data": {
      "image/png": "[encoded data removed]",
      "text/plain": [
       "<Figure size 936x93.6 with 1 Axes>"
      ]
     },
     "metadata": {
      "needs_background": "light"
     },
     "output_type": "display_data"
    }
   ],
   "source": [
    "for i in range(10,11):\n",
    "    make_bilz_hs(obf_es, i)\n",
    "    #make_bilz_hs_lh_nh(obf_es, i)"
   ]
  },
  {
   "cell_type": "code",
   "execution_count": null,
   "metadata": {},
   "outputs": [],
   "source": []
  },
  {
   "cell_type": "code",
   "execution_count": 19,
   "metadata": {},
   "outputs": [
    {
     "data": {
      "text/plain": [
       "0.8748595515695068"
      ]
     },
     "execution_count": 19,
     "metadata": {},
     "output_type": "execute_result"
    }
   ],
   "source": [
    "hses[0][0]/hses[0][1]"
   ]
  },
  {
   "cell_type": "code",
   "execution_count": 20,
   "metadata": {},
   "outputs": [
    {
     "data": {
      "text/plain": [
       "1.743734117647059"
      ]
     },
     "execution_count": 20,
     "metadata": {},
     "output_type": "execute_result"
    }
   ],
   "source": [
    "hses[0][2]/hses[0][3]"
   ]
  },
  {
   "cell_type": "code",
   "execution_count": 21,
   "metadata": {},
   "outputs": [
    {
     "data": {
      "text/plain": [
       "[[97546.84000000001, 111500.0, 14821.740000000002, 8500.0],\n",
       " [50461.15, 77100.0, 3223.8199999999997, 2900.0],\n",
       " [47085.69000000001, 34400.0, 11597.920000000002, 5600.0]]"
      ]
     },
     "execution_count": 21,
     "metadata": {},
     "output_type": "execute_result"
    }
   ],
   "source": [
    "hses"
   ]
  },
  {
   "cell_type": "code",
   "execution_count": null,
   "metadata": {},
   "outputs": [],
   "source": []
  },
  {
   "cell_type": "code",
   "execution_count": 21,
   "metadata": {},
   "outputs": [],
   "source": [
    "es, hs, bilz = obf_es.filter_data([to], [2], group=False)"
   ]
  },
  {
   "cell_type": "code",
   "execution_count": 22,
   "metadata": {},
   "outputs": [
    {
     "data": {
      "text/plain": [
       "Index(['Hiebssatz Kennzahlty', 'Kennzahl', 'Mandant', 'Forstbetrieb',\n",
       "       'Teiloperats-ID', 'Forstrevier', 'Betriebsklasse', 'Umtriebszeit',\n",
       "       'Bewirtschaftungsform', 'Ertragssituation', 'Jahr',\n",
       "       'Betriebsklassenbez', 'ENLH', 'ENNH', 'VNLH', 'VNNH', 'Summe',\n",
       "       'LfztJahre', 'Einforstung', 'Debitor', 'Angelegt am', 'Angelegt von',\n",
       "       'Geändert am', 'Geändert von', 'Debitor.1', 'TO-Bezeichnung', 'Status',\n",
       "       'Beg. Laufzeit', 'Ende Laufzeit'],\n",
       "      dtype='object')"
      ]
     },
     "execution_count": 22,
     "metadata": {},
     "output_type": "execute_result"
    }
   ],
   "source": [
    "es.columns"
   ]
  },
  {
   "cell_type": "code",
   "execution_count": 17,
   "metadata": {},
   "outputs": [],
   "source": [
    "def bilanzierter_HS(es, hs):\n",
    "    laufzeit = es['LfztJahre'].iloc[0]\n",
    "    year_start = es['Jahr'].unique().min()\n",
    "    year_now = es['Jahr'].unique().max()\n",
    "    rest_laufzeit = laufzeit - (year_now +1 - year_start)\n",
    "    \n",
    "    hs_year = hs[hs['Jahr']==year_now].sum()[['ENLH', 'ENNH', 'VNLH', 'VNNH', 'Summe']]\n",
    "    \n",
    "    hs_ges = hs_year * laufzeit\n",
    "    es_sum = es[['ENLH', 'ENNH', 'VNLH', 'VNNH', 'Summe']].sum()\n",
    "    hs_sum = hs[['ENLH', 'ENNH', 'VNLH', 'VNNH', 'Summe']].sum()\n",
    "    bilz_hs = (hs_ges + es_sum) / rest_laufzeit\n",
    "    print('hs_ges')\n",
    "    print(hs_ges)\n",
    "    print('es_sum')\n",
    "    print(es_sum)\n",
    "    \n",
    "    return(bilz_hs)"
   ]
  },
  {
   "cell_type": "code",
   "execution_count": 18,
   "metadata": {},
   "outputs": [
    {
     "name": "stdout",
     "output_type": "stream",
     "text": [
      "hs_ges\n",
      "ENLH      68420\n",
      "ENNH       8580\n",
      "VNLH      38280\n",
      "VNNH      16720\n",
      "Summe    132000\n",
      "dtype: object\n",
      "es_sum\n",
      "ENLH     -57534.53\n",
      "ENNH      -4870.35\n",
      "VNLH     -50687.60\n",
      "VNNH     -27506.22\n",
      "Summe   -140598.70\n",
      "dtype: float64\n"
     ]
    },
    {
     "data": {
      "text/plain": [
       "ENLH     10885.5\n",
       "ENNH     3709.65\n",
       "VNLH    -12407.6\n",
       "VNNH    -10786.2\n",
       "Summe    -8598.7\n",
       "dtype: object"
      ]
     },
     "execution_count": 18,
     "metadata": {},
     "output_type": "execute_result"
    }
   ],
   "source": [
    "bilanzierter_HS(es, hs)"
   ]
  },
  {
   "cell_type": "code",
   "execution_count": null,
   "metadata": {},
   "outputs": [],
   "source": []
  },
  {
   "cell_type": "code",
   "execution_count": 163,
   "metadata": {},
   "outputs": [],
   "source": [
    "es_sum = es[['ENLH', 'ENNH', 'VNLH', 'VNNH', 'Summe']].sum()"
   ]
  },
  {
   "cell_type": "code",
   "execution_count": 164,
   "metadata": {},
   "outputs": [],
   "source": [
    "hs_sum = hs[['ENLH', 'ENNH', 'VNLH', 'VNNH', 'Summe']].sum()"
   ]
  },
  {
   "cell_type": "code",
   "execution_count": 165,
   "metadata": {},
   "outputs": [],
   "source": [
    "hs_year = hs[hs['Jahr']==year_now].sum()[['ENLH', 'ENNH', 'VNLH', 'VNNH', 'Summe']]"
   ]
  },
  {
   "cell_type": "code",
   "execution_count": 166,
   "metadata": {},
   "outputs": [],
   "source": [
    "hs_ges = hs_year * laufzeit"
   ]
  },
  {
   "cell_type": "code",
   "execution_count": 167,
   "metadata": {},
   "outputs": [
    {
     "data": {
      "text/plain": [
       "ENLH     13931.1\n",
       "ENNH     -133.93\n",
       "VNLH    -5606.15\n",
       "VNNH    -2606.15\n",
       "Summe    5584.82\n",
       "dtype: object"
      ]
     },
     "execution_count": 167,
     "metadata": {},
     "output_type": "execute_result"
    }
   ],
   "source": [
    "(hs_ges + es_sum) / rest_laufzeit"
   ]
  },
  {
   "cell_type": "code",
   "execution_count": 168,
   "metadata": {},
   "outputs": [
    {
     "data": {
      "text/plain": [
       "ENLH      73040\n",
       "ENNH       6160\n",
       "VNLH      24200\n",
       "VNNH       6600\n",
       "Summe    110000\n",
       "dtype: object"
      ]
     },
     "execution_count": 168,
     "metadata": {},
     "output_type": "execute_result"
    }
   ],
   "source": [
    "hs_ges"
   ]
  },
  {
   "cell_type": "code",
   "execution_count": 172,
   "metadata": {},
   "outputs": [],
   "source": [
    "laufzeit = es['LfztJahre'].iloc[0]"
   ]
  },
  {
   "cell_type": "code",
   "execution_count": 173,
   "metadata": {},
   "outputs": [],
   "source": [
    "year_now = es['Jahr'].unique().max()"
   ]
  },
  {
   "cell_type": "code",
   "execution_count": 174,
   "metadata": {},
   "outputs": [],
   "source": [
    "year_start = es['Jahr'].unique().min()"
   ]
  },
  {
   "cell_type": "code",
   "execution_count": 175,
   "metadata": {},
   "outputs": [],
   "source": [
    "hs_year = key_data[1][0]"
   ]
  },
  {
   "cell_type": "code",
   "execution_count": 176,
   "metadata": {},
   "outputs": [],
   "source": [
    "hs_ges = hs_year * laufzeit"
   ]
  },
  {
   "cell_type": "code",
   "execution_count": 177,
   "metadata": {},
   "outputs": [],
   "source": [
    "rest_laufzeit = laufzeit - (year_now +1 - year_start)"
   ]
  },
  {
   "cell_type": "code",
   "execution_count": 178,
   "metadata": {},
   "outputs": [
    {
     "data": {
      "text/plain": [
       "33169.64"
      ]
     },
     "execution_count": 178,
     "metadata": {},
     "output_type": "execute_result"
    }
   ],
   "source": [
    "(hs_ges + es_sum['Summe'])/rest_laufzeit"
   ]
  },
  {
   "cell_type": "code",
   "execution_count": 115,
   "metadata": {
    "scrolled": true
   },
   "outputs": [],
   "source": [
    "nhs = hs[['ENLH', 'ENNH', 'VNLH', 'VNNH', 'Summe']].reset_index()\n",
    "nes = es[['ENLH', 'ENNH', 'VNLH', 'VNNH', 'Summe']].reset_index()"
   ]
  },
  {
   "cell_type": "code",
   "execution_count": 133,
   "metadata": {
    "scrolled": true
   },
   "outputs": [],
   "source": [
    "bil = nhs + nes"
   ]
  },
  {
   "cell_type": "code",
   "execution_count": 134,
   "metadata": {},
   "outputs": [
    {
     "data": {
      "text/plain": [
       "19257.47"
      ]
     },
     "execution_count": 134,
     "metadata": {},
     "output_type": "execute_result"
    }
   ],
   "source": [
    "bil.sum()['Summe']"
   ]
  },
  {
   "cell_type": "code",
   "execution_count": 131,
   "metadata": {},
   "outputs": [],
   "source": [
    "bil[bil < 0] = 0"
   ]
  },
  {
   "cell_type": "code",
   "execution_count": 132,
   "metadata": {},
   "outputs": [
    {
     "data": {
      "text/plain": [
       "28152.0"
      ]
     },
     "execution_count": 132,
     "metadata": {},
     "output_type": "execute_result"
    }
   ],
   "source": [
    "bil.sum()['Summe']"
   ]
  },
  {
   "cell_type": "code",
   "execution_count": 135,
   "metadata": {},
   "outputs": [
    {
     "data": {
      "text/plain": [
       "8894.529999999999"
      ]
     },
     "execution_count": 135,
     "metadata": {},
     "output_type": "execute_result"
    }
   ],
   "source": [
    "28152.0 - 19257.47"
   ]
  },
  {
   "cell_type": "code",
   "execution_count": null,
   "metadata": {},
   "outputs": [],
   "source": []
  },
  {
   "cell_type": "code",
   "execution_count": null,
   "metadata": {},
   "outputs": [],
   "source": []
  },
  {
   "cell_type": "code",
   "execution_count": 6,
   "metadata": {},
   "outputs": [
    {
     "name": "stdout",
     "output_type": "stream",
     "text": [
      "['Ges', 'Gesamt', 0]\n",
      "['EN', 'Endnutzung', 1]\n",
      "['VN', 'Vornutzung', 2]\n"
     ]
    }
   ],
   "source": [
    "x = []\n",
    "\n",
    "y_max, y_min = obf_es.max_min([1030], [2])\n",
    "\n",
    "for i in [['Ges','Gesamt',0], ['EN','Endnutzung',1], ['VN','Vornutzung',2]]:\n",
    "\n",
    "    print(i)\n",
    "    \n",
    "    ### GET 'TO' FROM FILE\n",
    "    ### ADD GES = EN + VN\n",
    "    ### beschriften von Vornutzung und Endnutzung\n",
    "\n",
    "    # create table\n",
    "    table = obf_es.fuc_tbl_hiebsatzbilanz_lh_nh([1030], [2], i, y_max, y_min)\n",
    "    image = plt.imread(os.path.join(os.getcwd(), 'tempx.png'), format=None)\n",
    "    x.append(image)"
   ]
  },
  {
   "cell_type": "code",
   "execution_count": 8,
   "metadata": {
    "scrolled": true
   },
   "outputs": [],
   "source": [
    "table = obf_es.fuc_tbl_hiebsatzbilanz_lh_nh(to=[1030], fr=[2], filterx=['Ges','Gesamt',0])"
   ]
  },
  {
   "cell_type": "code",
   "execution_count": 6,
   "metadata": {},
   "outputs": [],
   "source": [
    "table = obf_es.fuc_tbl([1030], fr=[2])"
   ]
  },
  {
   "cell_type": "code",
   "execution_count": 7,
   "metadata": {},
   "outputs": [
    {
     "data": {
      "text/plain": [
       "[[10074.253, 5214.143, 4832.3330000000005], [12000.0, 7000.0, 5000.0]]"
      ]
     },
     "execution_count": 7,
     "metadata": {},
     "output_type": "execute_result"
    }
   ],
   "source": [
    "table"
   ]
  },
  {
   "cell_type": "code",
   "execution_count": 18,
   "metadata": {},
   "outputs": [
    {
     "data": {
      "text/plain": [
       "7000.0"
      ]
     },
     "execution_count": 18,
     "metadata": {},
     "output_type": "execute_result"
    }
   ],
   "source": [
    "(hs['ENLH'].sum()+hs['ENNH'].sum())/hs['Summe'].shape[0]"
   ]
  },
  {
   "cell_type": "code",
   "execution_count": 15,
   "metadata": {},
   "outputs": [
    {
     "data": {
      "text/plain": [
       "12000.0"
      ]
     },
     "execution_count": 15,
     "metadata": {},
     "output_type": "execute_result"
    }
   ],
   "source": [
    "hs['Summe'].sum()/hs['Summe'].shape[0]"
   ]
  },
  {
   "cell_type": "code",
   "execution_count": 16,
   "metadata": {},
   "outputs": [
    {
     "data": {
      "text/plain": [
       "10074.253"
      ]
     },
     "execution_count": 16,
     "metadata": {},
     "output_type": "execute_result"
    }
   ],
   "source": [
    "es['Summe'].sum()/es['Summe'].shape[0]"
   ]
  },
  {
   "cell_type": "code",
   "execution_count": 9,
   "metadata": {},
   "outputs": [
    {
     "data": {
      "text/plain": [
       "20465"
      ]
     },
     "execution_count": 9,
     "metadata": {},
     "output_type": "execute_result"
    }
   ],
   "source": [
    "table.max().max()"
   ]
  },
  {
   "cell_type": "code",
   "execution_count": 10,
   "metadata": {},
   "outputs": [
    {
     "data": {
      "text/plain": [
       "-1219"
      ]
     },
     "execution_count": 10,
     "metadata": {},
     "output_type": "execute_result"
    }
   ],
   "source": [
    "table.min().min()"
   ]
  },
  {
   "cell_type": "code",
   "execution_count": 7,
   "metadata": {},
   "outputs": [],
   "source": [
    "image = plt.imread(os.path.join(os.getcwd(), 'tempx.png'), format=None)"
   ]
  },
  {
   "cell_type": "code",
   "execution_count": 12,
   "metadata": {},
   "outputs": [
    {
     "data": {
      "image/png": "[encoded data removed]",
      "text/plain": [
       "<Figure size 432x288 with 1 Axes>"
      ]
     },
     "metadata": {
      "needs_background": "light"
     },
     "output_type": "display_data"
    }
   ],
   "source": [
    "fig, ax = plt.subplots()\n",
    "im = ax.imshow(x[0])\n",
    "ax.axis('off')\n",
    "plt.show()"
   ]
  },
  {
   "cell_type": "code",
   "execution_count": null,
   "metadata": {},
   "outputs": [],
   "source": []
  },
  {
   "cell_type": "code",
   "execution_count": 23,
   "metadata": {},
   "outputs": [],
   "source": [
    "# important\n",
    "to = [1030]\n",
    "fr = [2]\n",
    "\n",
    "data_filter = data[data['Teiloperats-ID'].isin(to)]\n",
    "\n",
    "data_filter = data_filter[data_filter['Forstrevier'].isin(fr)]\n",
    "\n",
    "es = data_filter[data_filter['Hiebssatz Kennzahlty'] == 'JES']\n",
    "hs = data_filter[data_filter['Hiebssatz Kennzahlty'] == 'JHS']\n",
    "\n",
    "es_jahre = es.groupby('Jahr')\n",
    "hs_jahre = hs.groupby('Jahr')\n",
    "\n",
    "es_g = es_jahre.sum()*(-1)\n",
    "hs_g = hs_jahre.sum()\n",
    "bilz_g = (es-hs).cumsum()*(-1)"
   ]
  },
  {
   "cell_type": "code",
   "execution_count": 9,
   "metadata": {},
   "outputs": [],
   "source": [
    "# important\n",
    "def dounat_chart(es_s, hs_s, name):\n",
    "\n",
    "    if hs_s - es_s < 0:\n",
    "        diff = 0\n",
    "    else:\n",
    "        diff = hs_s - es_s\n",
    "\n",
    "    fig, ax = plt.subplots()\n",
    "    ax.pie([diff,es_s], colors=['green', 'red'], labels=['frei', 'genutzt'], startangle=90)\n",
    "\n",
    "    my_cycle = plt.Circle((0,0),0.7,color='white')\n",
    "    p = plt.gcf()\n",
    "    p.gca().add_artist(my_cycle)\n",
    "    \n",
    "    plt.savefig('tempp_' + str(name) + '.png', bbox_inches='tight', dpi=300)"
   ]
  },
  {
   "cell_type": "code",
   "execution_count": 10,
   "metadata": {
    "scrolled": true
   },
   "outputs": [
    {
     "data": {
      "image/png": "[encoded data removed]",
      "text/plain": [
       "<Figure size 432x288 with 1 Axes>"
      ]
     },
     "metadata": {},
     "output_type": "display_data"
    },
    {
     "data": {
      "image/png": "[encoded data removed]",
      "text/plain": [
       "<Figure size 432x288 with 1 Axes>"
      ]
     },
     "metadata": {},
     "output_type": "display_data"
    },
    {
     "data": {
      "image/png": "[encoded data removed]",
      "text/plain": [
       "<Figure size 432x288 with 1 Axes>"
      ]
     },
     "metadata": {},
     "output_type": "display_data"
    }
   ],
   "source": [
    "# important\n",
    "hses = []\n",
    "\n",
    "for i in ['Ges','EN','VN']:\n",
    "    \n",
    "    es_s = 0\n",
    "    hs_s = 0\n",
    "    \n",
    "    if i == 'Ges':\n",
    "        es_s = es['Summe'].sum()*-1\n",
    "        hs_s = hs['Summe'].sum()\n",
    "        dounat_chart(es_s, hs_s, 0)\n",
    "        hses.append([es_s,hs_s])\n",
    "        \n",
    "    elif i == 'EN':\n",
    "        es_s = (es['ENLH'].sum() + es['ENNH'].sum())*-1\n",
    "        hs_s = hs['ENLH'].sum() + hs['ENNH'].sum()\n",
    "        dounat_chart(es_s, hs_s, 1)\n",
    "        hses.append([es_s,hs_s])\n",
    "        \n",
    "    elif i == 'VN':\n",
    "        es_s = (es['VNLH'].sum() + es['VNNH'].sum())*-1\n",
    "        hs_s = hs['VNLH'].sum() + hs['VNNH'].sum()\n",
    "        dounat_chart(es_s, hs_s, 2)\n",
    "        hses.append([es_s,hs_s])\n",
    "        "
   ]
  },
  {
   "cell_type": "code",
   "execution_count": 23,
   "metadata": {},
   "outputs": [],
   "source": [
    "# important\n",
    "def dounat_chart_lh_nh(es_lh, hs_lh, es_nh, hs_nh, name):\n",
    "\n",
    "    if hs_lh - es_lh < 0:\n",
    "        now_lh = 1\n",
    "        diff_lh = 0\n",
    "    else:\n",
    "        now_lh = es_lh/hs_lh\n",
    "        diff_lh = (hs_lh-es_lh)/hs_lh\n",
    "        \n",
    "    if hs_nh - es_nh < 0:\n",
    "        now_nh = 1\n",
    "        diff_nh = 0\n",
    "    else:\n",
    "        now_nh = es_nh/hs_nh\n",
    "        diff_nh = (hs_nh-es_nh)/hs_nh\n",
    "\n",
    "    fig, ax = plt.subplots()\n",
    "    ax.pie([now_lh, diff_lh, diff_nh, now_nh], colors=['blue', 'white', 'white', 'green'], startangle=90) # colors=['green', 'red'], labels=['frei', 'genutzt'],\n",
    "\n",
    "    my_cycle = plt.Circle((0,0),0.7,color='white')\n",
    "    p = plt.gcf()\n",
    "    p.gca().add_artist(my_cycle)\n",
    "    \n",
    "    plt.savefig('templhnh_' + str(name) + '.png', bbox_inches='tight', dpi=300)"
   ]
  },
  {
   "cell_type": "code",
   "execution_count": 17,
   "metadata": {},
   "outputs": [
    {
     "data": {
      "text/plain": [
       "0.9889395537525354"
      ]
     },
     "execution_count": 17,
     "metadata": {},
     "output_type": "execute_result"
    }
   ],
   "source": [
    "es_lh/hs_lh"
   ]
  },
  {
   "cell_type": "code",
   "execution_count": 18,
   "metadata": {},
   "outputs": [
    {
     "data": {
      "text/plain": [
       "0.011060446247464627"
      ]
     },
     "execution_count": 18,
     "metadata": {},
     "output_type": "execute_result"
    }
   ],
   "source": [
    "(hs_lh-es_lh)/hs_lh"
   ]
  },
  {
   "cell_type": "code",
   "execution_count": 19,
   "metadata": {},
   "outputs": [
    {
     "data": {
      "text/plain": [
       "1.1548673796791444"
      ]
     },
     "execution_count": 19,
     "metadata": {},
     "output_type": "execute_result"
    }
   ],
   "source": [
    "es_nh/hs_nh"
   ]
  },
  {
   "cell_type": "code",
   "execution_count": 20,
   "metadata": {},
   "outputs": [
    {
     "data": {
      "text/plain": [
       "5"
      ]
     },
     "execution_count": 20,
     "metadata": {},
     "output_type": "execute_result"
    }
   ],
   "source": [
    "fr"
   ]
  },
  {
   "cell_type": "code",
   "execution_count": 25,
   "metadata": {},
   "outputs": [
    {
     "data": {
      "image/png": "[encoded data removed]",
      "text/plain": [
       "<Figure size 432x288 with 1 Axes>"
      ]
     },
     "metadata": {},
     "output_type": "display_data"
    },
    {
     "data": {
      "image/png": "[encoded data removed]",
      "text/plain": [
       "<Figure size 432x288 with 1 Axes>"
      ]
     },
     "metadata": {},
     "output_type": "display_data"
    },
    {
     "data": {
      "image/png": "[encoded data removed]",
      "text/plain": [
       "<Figure size 432x288 with 1 Axes>"
      ]
     },
     "metadata": {},
     "output_type": "display_data"
    }
   ],
   "source": [
    "# important\n",
    "fr = 2\n",
    "es, hs, bilz = obf_es.filter_data([to], [fr], group=False)\n",
    "\n",
    "hses = []\n",
    "\n",
    "for i in ['Ges','EN','VN']:\n",
    "    \n",
    "    es_s = 0\n",
    "    hs_s = 0\n",
    "    \n",
    "    if i == 'Ges':\n",
    "        es_lh = (es['ENLH'].sum() + es['VNLH'].sum())*-1\n",
    "        hs_lh = (hs['ENLH'].sum() + hs['VNLH'].sum())\n",
    "        es_nh = (es['ENNH'].sum() + es['VNNH'].sum())*-1\n",
    "        hs_nh = (hs['ENNH'].sum() + hs['VNNH'].sum())\n",
    "        dounat_chart_lh_nh(es_lh, hs_lh, es_nh, hs_nh, 0)\n",
    "        hses.append([es_lh, hs_lh, es_nh, hs_nh])\n",
    "        \n",
    "    elif i == 'EN':\n",
    "        es_lh = (es['ENLH'].sum())*-1\n",
    "        hs_lh = (hs['ENLH'].sum())\n",
    "        es_nh = (es['ENNH'].sum())*-1\n",
    "        hs_nh = (hs['ENNH'].sum())\n",
    "        dounat_chart_lh_nh(es_lh, hs_lh, es_nh, hs_nh, 1)\n",
    "        hses.append([es_lh, hs_lh, es_nh, hs_nh])\n",
    "        \n",
    "    elif i == 'VN':\n",
    "        es_lh = (es['VNLH'].sum())*-1\n",
    "        hs_lh = (hs['VNLH'].sum())\n",
    "        es_nh = (es['VNNH'].sum())*-1\n",
    "        hs_nh = (hs['VNNH'].sum())\n",
    "        dounat_chart_lh_nh(es_lh, hs_lh, es_nh, hs_nh, 2)\n",
    "        hses.append([es_lh, hs_lh, es_nh, hs_nh])\n",
    "        "
   ]
  },
  {
   "cell_type": "code",
   "execution_count": null,
   "metadata": {},
   "outputs": [],
   "source": []
  },
  {
   "cell_type": "code",
   "execution_count": null,
   "metadata": {},
   "outputs": [],
   "source": []
  },
  {
   "cell_type": "code",
   "execution_count": 12,
   "metadata": {},
   "outputs": [
    {
     "data": {
      "text/plain": [
       "[[100742.53, 120000.0], [52152.56999999999, 70000.0], [48589.96, 50000.0]]"
      ]
     },
     "execution_count": 12,
     "metadata": {},
     "output_type": "execute_result"
    }
   ],
   "source": [
    "hses"
   ]
  },
  {
   "cell_type": "code",
   "execution_count": 21,
   "metadata": {},
   "outputs": [
    {
     "data": {
      "text/plain": [
       "83.95210833333333"
      ]
     },
     "execution_count": 21,
     "metadata": {},
     "output_type": "execute_result"
    }
   ],
   "source": [
    "hses[0][0]/hses[0][1]*100"
   ]
  },
  {
   "cell_type": "code",
   "execution_count": 9,
   "metadata": {},
   "outputs": [],
   "source": [
    "c = canvas.Canvas(\"hello.pdf\")\n",
    "c.drawString(100,750,\"Welcome to Reportlab!\")\n",
    "c.save()"
   ]
  },
  {
   "cell_type": "code",
   "execution_count": 10,
   "metadata": {},
   "outputs": [],
   "source": [
    "import time\n",
    "from reportlab.lib.enums import TA_JUSTIFY\n",
    "from reportlab.lib.pagesizes import letter, landscape, A4\n",
    "from reportlab.platypus import SimpleDocTemplate, Paragraph, Spacer, Image\n",
    "from reportlab.lib.styles import getSampleStyleSheet, ParagraphStyle\n",
    "from reportlab.lib.units import inch\n",
    " \n",
    "c = canvas.Canvas(\"graph_1.pdf\",pagesize=landscape(A4))\n",
    "w_p, h_p = landscape(A4)\n",
    "\n",
    "c.drawString(2*inch,2*inch,\"Welcome to Reportlab!\")\n",
    "\n",
    "#im = Image(\"tempx.png\", width=3*inch, height=2.6*inch)\n",
    "#c.drawImage(\"tempx.png\",0.2*inch,0.2*inch)\n",
    "c.drawImage(\"tempx.png\", 0.2*inch, 0.2*inch, width=3*inch, height=2.6*inch)\n",
    "\n",
    "c.save()\n"
   ]
  },
  {
   "cell_type": "code",
   "execution_count": 13,
   "metadata": {},
   "outputs": [
    {
     "name": "stdout",
     "output_type": "stream",
     "text": [
      "841.8897637795277\n",
      "595.2755905511812\n"
     ]
    }
   ],
   "source": [
    "print(w_p)\n",
    "print(h_p)"
   ]
  },
  {
   "cell_type": "code",
   "execution_count": 14,
   "metadata": {},
   "outputs": [],
   "source": [
    "w_cm = 297\n",
    "h_cm = 210"
   ]
  },
  {
   "cell_type": "code",
   "execution_count": 16,
   "metadata": {},
   "outputs": [
    {
     "name": "stdout",
     "output_type": "stream",
     "text": [
      "2.834645669291339\n",
      "2.834645669291339\n"
     ]
    }
   ],
   "source": [
    "print(w_p/w_cm)\n",
    "print(h_p/h_cm)"
   ]
  },
  {
   "cell_type": "code",
   "execution_count": 17,
   "metadata": {},
   "outputs": [
    {
     "data": {
      "text/plain": [
       "10074.0"
      ]
     },
     "execution_count": 17,
     "metadata": {},
     "output_type": "execute_result"
    }
   ],
   "source": [
    "round(key_data[0][0],0)"
   ]
  },
  {
   "cell_type": "code",
   "execution_count": 6,
   "metadata": {
    "scrolled": true
   },
   "outputs": [
    {
     "name": "stdout",
     "output_type": "stream",
     "text": [
      "841.8897637795277\n",
      "756.8503937007875\n",
      "252.28346456692918\n",
      "20464.980000000003 -1218.67\n",
      "20464.980000000003 -1218.67\n",
      "20464.980000000003 -1218.67\n",
      "[[100742.53, 120000.0], [52152.56999999999, 70000.0], [48589.96, 50000.0]]\n",
      "end\n"
     ]
    },
    {
     "data": {
      "image/png": "[encoded data removed]",
      "text/plain": [
       "<Figure size 432x288 with 1 Axes>"
      ]
     },
     "metadata": {},
     "output_type": "display_data"
    },
    {
     "data": {
      "image/png": "[encoded data removed]",
      "text/plain": [
       "<Figure size 432x288 with 1 Axes>"
      ]
     },
     "metadata": {},
     "output_type": "display_data"
    },
    {
     "data": {
      "image/png": "[encoded data removed]",
      "text/plain": [
       "<Figure size 432x288 with 1 Axes>"
      ]
     },
     "metadata": {},
     "output_type": "display_data"
    }
   ],
   "source": [
    "# in use\n",
    "import time\n",
    "from reportlab.lib.enums import TA_JUSTIFY\n",
    "from reportlab.lib.pagesizes import letter, landscape, A4\n",
    "from reportlab.platypus import SimpleDocTemplate, Paragraph, Spacer, Image\n",
    "from reportlab.lib.styles import getSampleStyleSheet, ParagraphStyle\n",
    "from reportlab.lib.units import inch\n",
    "\n",
    "key_data = obf_es.fuc_tbl([1030], fr=[2])\n",
    "\n",
    "c = canvas.Canvas(\"graph_1.pdf\",pagesize=landscape(A4))\n",
    "\n",
    "# weights\n",
    "w_p_org, h_p_org = landscape(A4)\n",
    "\n",
    "mm = w_p_org/297\n",
    "marg = 15 * mm\n",
    "\n",
    "w_p = w_p_org - 2*marg\n",
    "h_p = h_p_org - 2*marg\n",
    "\n",
    "w_g = w_p/3\n",
    "h_g = h_p*0.55\n",
    "\n",
    "print(w_p_org)\n",
    "print(w_p)\n",
    "print(w_g)\n",
    "\n",
    "\n",
    "#c.drawString(2*inch,2*inch,\"Welcome to Reportlab!\")\n",
    "\n",
    "y_max, y_min = obf_es.max_min([1030], [2])\n",
    "\n",
    "for i in [['Ges','Gesamt',0], ['EN','Endnutzung',1], ['VN','Vornutzung',2]]:\n",
    "\n",
    "    # create table\n",
    "    table = obf_es.fuc_tbl_hiebsatzbilanz([1030], [2], i, y_max, y_min)\n",
    "    #table = obf_es.fuc_tbl_hiebsatzbilanz([1030], [2], i, y_max, y_min)\n",
    "    #c.drawImage(\"tempx.png\", (i[2]*3+0.3)*inch, 2*inch, width=3*inch, height=2.6*inch)    \n",
    "hses = obf_es.fuc_tbl_pie([1030], [2])\n",
    "\n",
    "for i in [[0,-1.5,-3.5],[1,-0.5,-0.5],[2,0.5,2.5]]:\n",
    "    c.drawImage(\"tempx_\" + str(i[0]) + \".png\", w_p_org*0.5 + i[1]*w_g, marg + h_p*0.15, width=w_g, height=h_g)\n",
    "    c.drawImage(\"tempp_\" + str(i[0]) + \".png\", w_p_org*0.5 + i[2]*w_g/3, marg + h_p*0.71, width=w_g/3, height=w_g/3)\n",
    "\n",
    "# draw lines\n",
    "\n",
    "# coose colors\n",
    "c.setStrokeColorRGB(0.2,0.5,0.3)\n",
    "c.line(marg, marg, w_p_org - marg, marg)\n",
    "c.line(marg, marg + h_p*0.15, w_p_org - marg, marg + h_p*0.15)\n",
    "c.line(marg, marg + h_p*0.7, w_p_org - marg, marg + h_p*0.7)\n",
    "c.line(marg, marg + h_p*0.88, w_p_org - marg, marg + h_p*0.88)\n",
    "c.line(marg, marg + h_p*0.92, w_p_org - marg, marg + h_p*0.92)\n",
    "\n",
    "for i in [[0,w_p_org*0.5-w_g], [1,w_p_org*0.5], [2,w_p_org*0.5+w_g]]:\n",
    "    c.line(i[1] - w_g/2, marg + h_p*0.79, i[1] - w_g/4, marg + h_p*0.79)\n",
    "    c.line(i[1] + w_g/4, marg + h_p*0.79, i[1] + w_g/2, marg + h_p*0.79)\n",
    "\n",
    "c.setFillColorRGB(0.2,0.5,0.3)\n",
    "c.rect(marg, h_p_org - marg - mm*10, w_p, mm*10, fill=1)\n",
    "\n",
    "c.setStrokeColorRGB(1,1,1)\n",
    "c.setFillColorRGB(1,1,1)\n",
    "c.rect(w_p_org/2-w_g/2-mm*2.5, marg + h_p*0.65,  mm*5, h_p*0.28 , fill=1)\n",
    "c.rect(w_p_org/2+w_g/2-mm*2.5, marg + h_p*0.65,  mm*5, h_p*0.28 , fill=1)\n",
    "#c.line(w_p_org/2, 0, w_p_org/2, h_p)\n",
    "\n",
    "# text\n",
    "c.setFont(\"Helvetica\", 14)\n",
    "c.setFillColorRGB(0,0,0)\n",
    "for i in [[0,w_p_org*0.5-w_g], [1,w_p_org*0.5], [2,w_p_org*0.5+w_g]]:\n",
    "    c.drawString(i[1] - mm*4, marg + h_p*0.783, str(int(round(hses[i[0]][0]/hses[i[0]][1]*100))) + \"%\")\n",
    "# key data\n",
    "c.setFont(\"Helvetica\", 14)\n",
    "c.setFillColorRGB(0,0,0)\n",
    "for i in [[0,w_p_org*0.5-w_g], [1,w_p_org*0.5], [2,w_p_org*0.5+w_g]]:\n",
    "    c.drawString(i[1] - w_g/2 + mm*5, marg + h_p*0.805, str(int(key_data[1][i[0]])))\n",
    "    c.drawString(i[1] - w_g/2 + mm*5, marg + h_p*0.715, str(int(round(key_data[0][i[0]],0))))\n",
    "    c.drawString(i[1] + w_g/2 - mm*22, marg + h_p*0.805, \"18300\")\n",
    "    c.drawString(i[1] + w_g/2 - mm*22, marg + h_p*0.715, \"13133\")\n",
    "#\n",
    "c.setFont(\"Helvetica\", 5)\n",
    "c.setFillColorRGB(0,0,0)    \n",
    "for i in [w_p_org*0.5-w_g, w_p_org*0.5, w_p_org*0.5+w_g]:\n",
    "    c.drawString(i - w_g/2 + mm*5, marg + h_p*0.835, \"jährlicher\")\n",
    "    c.drawString(i - w_g/2 + mm*5, marg + h_p*0.745, \"mittlerer jährlicher\")\n",
    "    c.drawString(i + w_g/2 - mm*22, marg + h_p*0.835, \"Negativ unbrücksichtigt\")\n",
    "    c.drawString(i + w_g/2 - mm*22, marg + h_p*0.745, \"Negativ berücksichtigt\")\n",
    "#\n",
    "c.setFont(\"Helvetica\", 9)\n",
    "c.setFillColorRGB(0,0,0)\n",
    "for i in [w_p_org*0.5-w_g, w_p_org*0.5, w_p_org*0.5+w_g]:\n",
    "    c.drawString(i - w_g/2 + mm*5, marg + h_p*0.85, \"Hiebssatz\")\n",
    "    c.drawString(i - w_g/2 + mm*5, marg + h_p*0.76, \"Einschlag\")\n",
    "    c.drawString(i + w_g/2 - mm*22, marg + h_p*0.85, \"Bilz Hiebssatz\")\n",
    "    c.drawString(i + w_g/2 - mm*22, marg + h_p*0.76, \"Bilz Hiebssatz\")\n",
    "#\n",
    "c.setFont(\"Helvetica\", 15)\n",
    "c.setFillColorRGB(0,0,0)\n",
    "c.drawString(w_p_org*0.5 - w_g - mm*10, marg + h_p*0.89, \"Gesamt\")\n",
    "c.drawString(w_p_org*0.5 - mm*15, marg + h_p*0.89, \"Endnutzung\")\n",
    "c.drawString(w_p_org*0.5 + w_g - mm*15, marg + h_p*0.89, \"Vornutzung\")\n",
    "# define font\n",
    "c.setFont(\"Helvetica\", 20)\n",
    "c.setFillColorRGB(1,1,1)\n",
    "c.drawString(w_p_org*0.5 - mm*10, h_p_org - marg - mm*7.5, \"FB 171\")\n",
    "\n",
    "c.save()\n",
    "print('end')"
   ]
  },
  {
   "cell_type": "code",
   "execution_count": null,
   "metadata": {},
   "outputs": [],
   "source": []
  },
  {
   "cell_type": "code",
   "execution_count": null,
   "metadata": {},
   "outputs": [],
   "source": []
  },
  {
   "cell_type": "code",
   "execution_count": 14,
   "metadata": {},
   "outputs": [],
   "source": [
    "hses"
   ]
  },
  {
   "cell_type": "code",
   "execution_count": 52,
   "metadata": {},
   "outputs": [
    {
     "data": {
      "text/plain": [
       "61.22834645669292"
      ]
     },
     "execution_count": 52,
     "metadata": {},
     "output_type": "execute_result"
    }
   ],
   "source": [
    "h_p*0.12"
   ]
  },
  {
   "cell_type": "code",
   "execution_count": 49,
   "metadata": {},
   "outputs": [
    {
     "data": {
      "text/plain": [
       "28.34645669291339"
      ]
     },
     "execution_count": 49,
     "metadata": {},
     "output_type": "execute_result"
    }
   ],
   "source": [
    "mm*10"
   ]
  },
  {
   "cell_type": "code",
   "execution_count": 10,
   "metadata": {},
   "outputs": [
    {
     "name": "stdout",
     "output_type": "stream",
     "text": [
      "0\n",
      "1\n",
      "2\n"
     ]
    }
   ],
   "source": [
    "for i in range(3):\n",
    "    print(i)"
   ]
  },
  {
   "cell_type": "code",
   "execution_count": 12,
   "metadata": {},
   "outputs": [],
   "source": [
    "import time\n",
    "from reportlab.lib.enums import TA_JUSTIFY\n",
    "from reportlab.lib.pagesizes import letter\n",
    "from reportlab.platypus import SimpleDocTemplate, Paragraph, Spacer, Image\n",
    "from reportlab.lib.styles import getSampleStyleSheet, ParagraphStyle\n",
    "from reportlab.lib.units import inch\n",
    " \n",
    "doc = SimpleDocTemplate(\"graph_1.pdf\",pagesize=letter,\n",
    "                        rightMargin=72,leftMargin=72,\n",
    "                        topMargin=72,bottomMargin=18)\n",
    "Story=[]\n",
    "logo = \"tempx.png\"\n",
    "magName = \"Pythonista\"\n",
    "issueNum = 12\n",
    "subPrice = \"99.00\"\n",
    "limitedDate = \"03/05/2010\"\n",
    "freeGift = \"tin foil hat\"\n",
    " \n",
    "formatted_time = time.ctime()\n",
    "full_name = \"Mike Driscoll\"\n",
    "address_parts = [\"411 State St.\", \"Marshalltown, IA 50158\"]\n",
    " \n",
    "im = Image(logo, 2*inch, 2*inch)\n",
    "Story.append(im)\n",
    " \n",
    "styles=getSampleStyleSheet()\n",
    "styles.add(ParagraphStyle(name='Justify', alignment=TA_JUSTIFY))\n",
    "ptext = '<font size=12>%s</font>' % formatted_time\n",
    " \n",
    "Story.append(Paragraph(ptext, styles[\"Normal\"]))\n",
    "Story.append(Spacer(1, 12))\n",
    " \n",
    "# Create return address\n",
    "ptext = '<font size=12>%s</font>' % full_name\n",
    "Story.append(Paragraph(ptext, styles[\"Normal\"]))       \n",
    "for part in address_parts:\n",
    "    ptext = '<font size=12>%s</font>' % part.strip()\n",
    "    Story.append(Paragraph(ptext, styles[\"Normal\"]))   \n",
    " \n",
    "Story.append(Spacer(1, 12))\n",
    "ptext = '<font size=12>Dear %s:</font>' % full_name.split()[0].strip()\n",
    "Story.append(Paragraph(ptext, styles[\"Normal\"]))\n",
    "Story.append(Spacer(1, 12))\n",
    " \n",
    "ptext = '<font size=12>We would like to welcome you to our subscriber base for %s Magazine! \\\n",
    "        You will receive %s issues at the excellent introductory price of $%s. Please respond by\\\n",
    "        %s to start receiving your subscription and get the following free gift: %s.</font>' % (magName, \n",
    "                                                                                                issueNum,\n",
    "                                                                                                subPrice,\n",
    "                                                                                                limitedDate,\n",
    "                                                                                                freeGift)\n",
    "Story.append(Paragraph(ptext, styles[\"Justify\"]))\n",
    "Story.append(Spacer(1, 12))\n",
    " \n",
    " \n",
    "ptext = '<font size=12>Thank you very much and we look forward to serving you.</font>'\n",
    "Story.append(Paragraph(ptext, styles[\"Justify\"]))\n",
    "Story.append(Spacer(1, 12))\n",
    "ptext = '<font size=12>Sincerely,</font>'\n",
    "Story.append(Paragraph(ptext, styles[\"Normal\"]))\n",
    "Story.append(Spacer(1, 48))\n",
    "ptext = '<font size=12>Ima Sucker</font>'\n",
    "Story.append(Paragraph(ptext, styles[\"Normal\"]))\n",
    "Story.append(Spacer(1, 12))\n",
    "doc.build(Story)"
   ]
  },
  {
   "cell_type": "code",
   "execution_count": null,
   "metadata": {},
   "outputs": [],
   "source": []
  },
  {
   "cell_type": "code",
   "execution_count": 16,
   "metadata": {},
   "outputs": [
    {
     "data": {
      "text/html": [
       "<div>\n",
       "<style scoped>\n",
       "    .dataframe tbody tr th:only-of-type {\n",
       "        vertical-align: middle;\n",
       "    }\n",
       "\n",
       "    .dataframe tbody tr th {\n",
       "        vertical-align: top;\n",
       "    }\n",
       "\n",
       "    .dataframe thead th {\n",
       "        text-align: right;\n",
       "    }\n",
       "</style>\n",
       "<table border=\"1\" class=\"dataframe\">\n",
       "  <thead>\n",
       "    <tr style=\"text-align: right;\">\n",
       "      <th></th>\n",
       "      <th>Hiebssatz Kennzahlty</th>\n",
       "      <th>Kennzahl</th>\n",
       "      <th>Mandant</th>\n",
       "      <th>Forstbetrieb</th>\n",
       "      <th>Teiloperats-ID</th>\n",
       "      <th>Forstrevier</th>\n",
       "      <th>Betriebsklasse</th>\n",
       "      <th>Umtriebszeit</th>\n",
       "      <th>Bewirtschaftungsform</th>\n",
       "      <th>Ertragssituation</th>\n",
       "      <th>...</th>\n",
       "      <th>Debitor</th>\n",
       "      <th>Angelegt am</th>\n",
       "      <th>Angelegt von</th>\n",
       "      <th>Geändert am</th>\n",
       "      <th>Geändert von</th>\n",
       "      <th>Debitor.1</th>\n",
       "      <th>TO-Bezeichnung</th>\n",
       "      <th>Status</th>\n",
       "      <th>Beg. Laufzeit</th>\n",
       "      <th>Ende Laufzeit</th>\n",
       "    </tr>\n",
       "  </thead>\n",
       "  <tbody>\n",
       "    <tr>\n",
       "      <th>0</th>\n",
       "      <td>JHS</td>\n",
       "      <td>Festgesetzte Jahreshiebssätze</td>\n",
       "      <td>1</td>\n",
       "      <td>171</td>\n",
       "      <td>1030</td>\n",
       "      <td>1</td>\n",
       "      <td>9010</td>\n",
       "      <td>100</td>\n",
       "      <td>W</td>\n",
       "      <td>A</td>\n",
       "      <td>...</td>\n",
       "      <td>220442</td>\n",
       "      <td>00.00.0000</td>\n",
       "      <td>NaN</td>\n",
       "      <td>00.00.0000</td>\n",
       "      <td>NaN</td>\n",
       "      <td>220442</td>\n",
       "      <td>1</td>\n",
       "      <td>2</td>\n",
       "      <td>01.01.2009</td>\n",
       "      <td>31.12.2019</td>\n",
       "    </tr>\n",
       "    <tr>\n",
       "      <th>1</th>\n",
       "      <td>JES</td>\n",
       "      <td>Jahres-Einschlag zum Hiebssatz</td>\n",
       "      <td>1</td>\n",
       "      <td>171</td>\n",
       "      <td>1030</td>\n",
       "      <td>1</td>\n",
       "      <td>9010</td>\n",
       "      <td>100</td>\n",
       "      <td>W</td>\n",
       "      <td>A</td>\n",
       "      <td>...</td>\n",
       "      <td>220442</td>\n",
       "      <td>00.00.0000</td>\n",
       "      <td>NaN</td>\n",
       "      <td>00.00.0000</td>\n",
       "      <td>NaN</td>\n",
       "      <td>220442</td>\n",
       "      <td>1</td>\n",
       "      <td>2</td>\n",
       "      <td>01.01.2009</td>\n",
       "      <td>31.12.2019</td>\n",
       "    </tr>\n",
       "    <tr>\n",
       "      <th>2</th>\n",
       "      <td>JHS</td>\n",
       "      <td>Festgesetzte Jahreshiebssätze</td>\n",
       "      <td>1</td>\n",
       "      <td>171</td>\n",
       "      <td>1030</td>\n",
       "      <td>1</td>\n",
       "      <td>9010</td>\n",
       "      <td>100</td>\n",
       "      <td>W</td>\n",
       "      <td>A</td>\n",
       "      <td>...</td>\n",
       "      <td>220442</td>\n",
       "      <td>00.00.0000</td>\n",
       "      <td>NaN</td>\n",
       "      <td>00.00.0000</td>\n",
       "      <td>NaN</td>\n",
       "      <td>220442</td>\n",
       "      <td>1</td>\n",
       "      <td>2</td>\n",
       "      <td>01.01.2009</td>\n",
       "      <td>31.12.2019</td>\n",
       "    </tr>\n",
       "    <tr>\n",
       "      <th>3</th>\n",
       "      <td>JES</td>\n",
       "      <td>Jahres-Einschlag zum Hiebssatz</td>\n",
       "      <td>1</td>\n",
       "      <td>171</td>\n",
       "      <td>1030</td>\n",
       "      <td>1</td>\n",
       "      <td>9010</td>\n",
       "      <td>100</td>\n",
       "      <td>W</td>\n",
       "      <td>A</td>\n",
       "      <td>...</td>\n",
       "      <td>220442</td>\n",
       "      <td>00.00.0000</td>\n",
       "      <td>NaN</td>\n",
       "      <td>00.00.0000</td>\n",
       "      <td>NaN</td>\n",
       "      <td>220442</td>\n",
       "      <td>1</td>\n",
       "      <td>2</td>\n",
       "      <td>01.01.2009</td>\n",
       "      <td>31.12.2019</td>\n",
       "    </tr>\n",
       "    <tr>\n",
       "      <th>4</th>\n",
       "      <td>JHS</td>\n",
       "      <td>Festgesetzte Jahreshiebssätze</td>\n",
       "      <td>1</td>\n",
       "      <td>171</td>\n",
       "      <td>1030</td>\n",
       "      <td>1</td>\n",
       "      <td>9010</td>\n",
       "      <td>100</td>\n",
       "      <td>W</td>\n",
       "      <td>A</td>\n",
       "      <td>...</td>\n",
       "      <td>220442</td>\n",
       "      <td>00.00.0000</td>\n",
       "      <td>NaN</td>\n",
       "      <td>00.00.0000</td>\n",
       "      <td>NaN</td>\n",
       "      <td>220442</td>\n",
       "      <td>1</td>\n",
       "      <td>2</td>\n",
       "      <td>01.01.2009</td>\n",
       "      <td>31.12.2019</td>\n",
       "    </tr>\n",
       "    <tr>\n",
       "      <th>5</th>\n",
       "      <td>JES</td>\n",
       "      <td>Jahres-Einschlag zum Hiebssatz</td>\n",
       "      <td>1</td>\n",
       "      <td>171</td>\n",
       "      <td>1030</td>\n",
       "      <td>1</td>\n",
       "      <td>9010</td>\n",
       "      <td>100</td>\n",
       "      <td>W</td>\n",
       "      <td>A</td>\n",
       "      <td>...</td>\n",
       "      <td>220442</td>\n",
       "      <td>00.00.0000</td>\n",
       "      <td>NaN</td>\n",
       "      <td>00.00.0000</td>\n",
       "      <td>NaN</td>\n",
       "      <td>220442</td>\n",
       "      <td>1</td>\n",
       "      <td>2</td>\n",
       "      <td>01.01.2009</td>\n",
       "      <td>31.12.2019</td>\n",
       "    </tr>\n",
       "    <tr>\n",
       "      <th>6</th>\n",
       "      <td>JHS</td>\n",
       "      <td>Festgesetzte Jahreshiebssätze</td>\n",
       "      <td>1</td>\n",
       "      <td>171</td>\n",
       "      <td>1030</td>\n",
       "      <td>1</td>\n",
       "      <td>9010</td>\n",
       "      <td>100</td>\n",
       "      <td>W</td>\n",
       "      <td>A</td>\n",
       "      <td>...</td>\n",
       "      <td>220442</td>\n",
       "      <td>00.00.0000</td>\n",
       "      <td>NaN</td>\n",
       "      <td>00.00.0000</td>\n",
       "      <td>NaN</td>\n",
       "      <td>220442</td>\n",
       "      <td>1</td>\n",
       "      <td>2</td>\n",
       "      <td>01.01.2009</td>\n",
       "      <td>31.12.2019</td>\n",
       "    </tr>\n",
       "  </tbody>\n",
       "</table>\n",
       "<p>7 rows × 29 columns</p>\n",
       "</div>"
      ],
      "text/plain": [
       "  Hiebssatz Kennzahlty                        Kennzahl  Mandant  Forstbetrieb  \\\n",
       "0                  JHS   Festgesetzte Jahreshiebssätze        1           171   \n",
       "1                  JES  Jahres-Einschlag zum Hiebssatz        1           171   \n",
       "2                  JHS   Festgesetzte Jahreshiebssätze        1           171   \n",
       "3                  JES  Jahres-Einschlag zum Hiebssatz        1           171   \n",
       "4                  JHS   Festgesetzte Jahreshiebssätze        1           171   \n",
       "5                  JES  Jahres-Einschlag zum Hiebssatz        1           171   \n",
       "6                  JHS   Festgesetzte Jahreshiebssätze        1           171   \n",
       "\n",
       "   Teiloperats-ID  Forstrevier  Betriebsklasse  Umtriebszeit  \\\n",
       "0            1030            1            9010           100   \n",
       "1            1030            1            9010           100   \n",
       "2            1030            1            9010           100   \n",
       "3            1030            1            9010           100   \n",
       "4            1030            1            9010           100   \n",
       "5            1030            1            9010           100   \n",
       "6            1030            1            9010           100   \n",
       "\n",
       "  Bewirtschaftungsform Ertragssituation      ...        Debitor  Angelegt am  \\\n",
       "0                    W                A      ...         220442   00.00.0000   \n",
       "1                    W                A      ...         220442   00.00.0000   \n",
       "2                    W                A      ...         220442   00.00.0000   \n",
       "3                    W                A      ...         220442   00.00.0000   \n",
       "4                    W                A      ...         220442   00.00.0000   \n",
       "5                    W                A      ...         220442   00.00.0000   \n",
       "6                    W                A      ...         220442   00.00.0000   \n",
       "\n",
       "   Angelegt von  Geändert am  Geändert von  Debitor.1  TO-Bezeichnung  Status  \\\n",
       "0           NaN   00.00.0000           NaN     220442               1       2   \n",
       "1           NaN   00.00.0000           NaN     220442               1       2   \n",
       "2           NaN   00.00.0000           NaN     220442               1       2   \n",
       "3           NaN   00.00.0000           NaN     220442               1       2   \n",
       "4           NaN   00.00.0000           NaN     220442               1       2   \n",
       "5           NaN   00.00.0000           NaN     220442               1       2   \n",
       "6           NaN   00.00.0000           NaN     220442               1       2   \n",
       "\n",
       "   Beg. Laufzeit  Ende Laufzeit  \n",
       "0     01.01.2009     31.12.2019  \n",
       "1     01.01.2009     31.12.2019  \n",
       "2     01.01.2009     31.12.2019  \n",
       "3     01.01.2009     31.12.2019  \n",
       "4     01.01.2009     31.12.2019  \n",
       "5     01.01.2009     31.12.2019  \n",
       "6     01.01.2009     31.12.2019  \n",
       "\n",
       "[7 rows x 29 columns]"
      ]
     },
     "execution_count": 16,
     "metadata": {},
     "output_type": "execute_result"
    }
   ],
   "source": [
    "data.head(7)"
   ]
  },
  {
   "cell_type": "code",
   "execution_count": 84,
   "metadata": {},
   "outputs": [],
   "source": [
    "to = [1030]\n",
    "fr = [2]\n",
    "\n",
    "data_filter = data[data['Teiloperats-ID'].isin(to)]\n",
    "\n",
    "data_filter = data_filter[data_filter['Forstrevier'].isin(fr)]\n",
    "\n",
    "es = data_filter[data_filter['Hiebssatz Kennzahlty'] == 'JES']\n",
    "hs = data_filter[data_filter['Hiebssatz Kennzahlty'] == 'JHS']\n",
    "\n",
    "es_jahre = es.groupby('Jahr')\n",
    "hs_jahre = hs.groupby('Jahr')\n",
    "\n",
    "es_g = es_jahre.sum()*(-1)\n",
    "hs_g = hs_jahre.sum()\n",
    "bilz_g = (es-hs).cumsum()*(-1)"
   ]
  },
  {
   "cell_type": "code",
   "execution_count": null,
   "metadata": {},
   "outputs": [],
   "source": []
  },
  {
   "cell_type": "code",
   "execution_count": 19,
   "metadata": {},
   "outputs": [
    {
     "data": {
      "text/plain": [
       "Index(['Hiebssatz Kennzahlty', 'Kennzahl', 'Mandant', 'Forstbetrieb',\n",
       "       'Teiloperats-ID', 'Forstrevier', 'Betriebsklasse', 'Umtriebszeit',\n",
       "       'Bewirtschaftungsform', 'Ertragssituation', 'Jahr',\n",
       "       'Betriebsklassenbez', 'ENLH', 'ENNH', 'VNLH', 'VNNH', 'Summe',\n",
       "       'LfztJahre', 'Einforstung', 'Debitor', 'Angelegt am', 'Angelegt von',\n",
       "       'Geändert am', 'Geändert von', 'Debitor.1', 'TO-Bezeichnung', 'Status',\n",
       "       'Beg. Laufzeit', 'Ende Laufzeit'],\n",
       "      dtype='object')"
      ]
     },
     "execution_count": 19,
     "metadata": {},
     "output_type": "execute_result"
    }
   ],
   "source": [
    "data_filter.columns"
   ]
  },
  {
   "cell_type": "code",
   "execution_count": 20,
   "metadata": {},
   "outputs": [
    {
     "data": {
      "text/plain": [
       "array([2009, 2010, 2011, 2012, 2013, 2014, 2015, 2016, 2017, 2018, 2019])"
      ]
     },
     "execution_count": 20,
     "metadata": {},
     "output_type": "execute_result"
    }
   ],
   "source": [
    "data_filter['Jahr'].unique()"
   ]
  },
  {
   "cell_type": "code",
   "execution_count": 21,
   "metadata": {},
   "outputs": [
    {
     "data": {
      "text/plain": [
       "array([2])"
      ]
     },
     "execution_count": 21,
     "metadata": {},
     "output_type": "execute_result"
    }
   ],
   "source": [
    "data_filter['Forstrevier'].unique()"
   ]
  },
  {
   "cell_type": "code",
   "execution_count": 115,
   "metadata": {
    "scrolled": true
   },
   "outputs": [
    {
     "data": {
      "image/png": "[encoded data removed]",
      "text/plain": [
       "<Figure size 432x288 with 1 Axes>"
      ]
     },
     "metadata": {},
     "output_type": "display_data"
    },
    {
     "data": {
      "image/png": "[encoded data removed]",
      "text/plain": [
       "<Figure size 432x288 with 1 Axes>"
      ]
     },
     "metadata": {},
     "output_type": "display_data"
    },
    {
     "data": {
      "image/png": "[encoded data removed]",
      "text/plain": [
       "<Figure size 432x288 with 1 Axes>"
      ]
     },
     "metadata": {},
     "output_type": "display_data"
    }
   ],
   "source": [
    "hses = []\n",
    "\n",
    "for i in ['Ges','EN','VN']:\n",
    "    \n",
    "    es_s = 0\n",
    "    hs_s = 0\n",
    "    \n",
    "    if i == 'Ges':\n",
    "        es_s = es['Summe'].sum()*-1\n",
    "        hs_s = hs['Summe'].sum()\n",
    "        dounat_chart(es_s, hs_s, 0)\n",
    "        hses.append([es_s,hs_s])\n",
    "        \n",
    "    elif i == 'EN':\n",
    "        es_s = (es['ENLH'].sum() + es['ENNH'].sum())*-1\n",
    "        hs_s = hs['ENLH'].sum() + hs['ENNH'].sum()\n",
    "        dounat_chart(es_s, hs_s, 1)\n",
    "        hses.append([es_s,hs_s])\n",
    "        \n",
    "    elif i == 'VN':\n",
    "        es_s = (es['VNLH'].sum() + es['VNNH'].sum())*-1\n",
    "        hs_s = hs['VNLH'].sum() + hs['VNNH'].sum()\n",
    "        dounat_chart(es_s, hs_s, 2)\n",
    "        hses.append([es_s,hs_s])\n",
    "        "
   ]
  },
  {
   "cell_type": "code",
   "execution_count": 104,
   "metadata": {},
   "outputs": [
    {
     "data": {
      "text/plain": [
       "[[100742.53, 132000.0], [52152.57, 77000.0], [48589.96, 55000.0]]"
      ]
     },
     "execution_count": 104,
     "metadata": {},
     "output_type": "execute_result"
    }
   ],
   "source": [
    "hses"
   ]
  },
  {
   "cell_type": "code",
   "execution_count": 107,
   "metadata": {},
   "outputs": [
    {
     "data": {
      "text/plain": [
       "132000.0"
      ]
     },
     "execution_count": 107,
     "metadata": {},
     "output_type": "execute_result"
    }
   ],
   "source": [
    "hses[1][1] + hses[2][1]"
   ]
  },
  {
   "cell_type": "code",
   "execution_count": 82,
   "metadata": {},
   "outputs": [],
   "source": [
    "es_s = es_g['Summe'].sum()"
   ]
  },
  {
   "cell_type": "code",
   "execution_count": 33,
   "metadata": {},
   "outputs": [],
   "source": [
    "hs_s = hs_g['Summe'].sum()"
   ]
  },
  {
   "cell_type": "code",
   "execution_count": 114,
   "metadata": {},
   "outputs": [],
   "source": [
    "def dounat_chart(es_s, hs_s, name):\n",
    "\n",
    "    if hs_s - es_s < 0:\n",
    "        diff = 0\n",
    "    else:\n",
    "        diff = hs_s - es_s\n",
    "\n",
    "    fig, ax = plt.subplots()\n",
    "    ax.pie([diff,es_s])\n",
    "\n",
    "    my_cycle = plt.Circle((0,0),0.7,color='white')\n",
    "    p = plt.gcf()\n",
    "    p.gca().add_artist(my_cycle)\n",
    "    \n",
    "    plt.savefig('tempp_' + str(name) + '.png', bbox_inches='tight', dpi=300)\n",
    "    plt.show()"
   ]
  },
  {
   "cell_type": "code",
   "execution_count": 108,
   "metadata": {},
   "outputs": [
    {
     "data": {
      "text/plain": [
       "88"
      ]
     },
     "execution_count": 108,
     "metadata": {},
     "output_type": "execute_result"
    }
   ],
   "source": [
    "int(round(es_s/hs_s*100,0))"
   ]
  },
  {
   "cell_type": "code",
   "execution_count": 48,
   "metadata": {},
   "outputs": [
    {
     "data": {
      "text/plain": [
       "Jahr\n",
       "2009     8219.23\n",
       "2010     8458.19\n",
       "2011     9187.04\n",
       "2012    10488.14\n",
       "2013    10322.25\n",
       "2014     9873.91\n",
       "2015    10313.40\n",
       "2016    10077.22\n",
       "2017    10920.25\n",
       "2018    12882.90\n",
       "2019       -0.00\n",
       "Name: Summe, dtype: float64"
      ]
     },
     "execution_count": 48,
     "metadata": {},
     "output_type": "execute_result"
    }
   ],
   "source": [
    "es_g['Summe']"
   ]
  },
  {
   "cell_type": "code",
   "execution_count": 16,
   "metadata": {},
   "outputs": [
    {
     "ename": "NameError",
     "evalue": "name 'hs_g' is not defined",
     "output_type": "error",
     "traceback": [
      "\u001b[0;31m---------------------------------------------------------------------------\u001b[0m",
      "\u001b[0;31mNameError\u001b[0m                                 Traceback (most recent call last)",
      "\u001b[0;32m<ipython-input-16-21d29790821a>\u001b[0m in \u001b[0;36m<module>\u001b[0;34m\u001b[0m\n\u001b[0;32m----> 1\u001b[0;31m \u001b[0mhs_g\u001b[0m\u001b[0;34m[\u001b[0m\u001b[0;34m'Summe'\u001b[0m\u001b[0;34m]\u001b[0m\u001b[0;34m\u001b[0m\u001b[0;34m\u001b[0m\u001b[0m\n\u001b[0m",
      "\u001b[0;31mNameError\u001b[0m: name 'hs_g' is not defined"
     ]
    }
   ],
   "source": [
    "hs_g['Summe']"
   ]
  },
  {
   "cell_type": "code",
   "execution_count": 8,
   "metadata": {},
   "outputs": [],
   "source": [
    "to = [1030]\n",
    "fr = [2]\n",
    "\n",
    "data_filter = data[data['Teiloperats-ID'].isin(to)]\n",
    "\n",
    "data_filter = data_filter[data_filter['Forstrevier'].isin(fr)]\n",
    "\n",
    "es = data_filter[data_filter['Hiebssatz Kennzahlty'] == 'JES']\n",
    "hs = data_filter[data_filter['Hiebssatz Kennzahlty'] == 'JHS']\n",
    "\n",
    "es_jahre = es.groupby('Jahr')\n",
    "hs_jahre = hs.groupby('Jahr')\n",
    "\n",
    "es_g = es_jahre.sum()*(-1)\n",
    "hs_g = hs_jahre.sum()\n",
    "bilz_g = (es-hs).cumsum()*(-1)"
   ]
  },
  {
   "cell_type": "code",
   "execution_count": 9,
   "metadata": {},
   "outputs": [],
   "source": [
    "new = es_g.loc[:,['Summe']]"
   ]
  },
  {
   "cell_type": "code",
   "execution_count": 10,
   "metadata": {},
   "outputs": [],
   "source": [
    "new['HS'] = hs_g['Summe']"
   ]
  },
  {
   "cell_type": "code",
   "execution_count": 11,
   "metadata": {},
   "outputs": [
    {
     "data": {
      "text/html": [
       "<div>\n",
       "<style scoped>\n",
       "    .dataframe tbody tr th:only-of-type {\n",
       "        vertical-align: middle;\n",
       "    }\n",
       "\n",
       "    .dataframe tbody tr th {\n",
       "        vertical-align: top;\n",
       "    }\n",
       "\n",
       "    .dataframe thead th {\n",
       "        text-align: right;\n",
       "    }\n",
       "</style>\n",
       "<table border=\"1\" class=\"dataframe\">\n",
       "  <thead>\n",
       "    <tr style=\"text-align: right;\">\n",
       "      <th></th>\n",
       "      <th>Summe</th>\n",
       "      <th>HS</th>\n",
       "    </tr>\n",
       "    <tr>\n",
       "      <th>Jahr</th>\n",
       "      <th></th>\n",
       "      <th></th>\n",
       "    </tr>\n",
       "  </thead>\n",
       "  <tbody>\n",
       "    <tr>\n",
       "      <th>2009</th>\n",
       "      <td>8219.23</td>\n",
       "      <td>12000.0</td>\n",
       "    </tr>\n",
       "    <tr>\n",
       "      <th>2010</th>\n",
       "      <td>8458.19</td>\n",
       "      <td>12000.0</td>\n",
       "    </tr>\n",
       "    <tr>\n",
       "      <th>2011</th>\n",
       "      <td>9187.04</td>\n",
       "      <td>12000.0</td>\n",
       "    </tr>\n",
       "    <tr>\n",
       "      <th>2012</th>\n",
       "      <td>10488.14</td>\n",
       "      <td>12000.0</td>\n",
       "    </tr>\n",
       "    <tr>\n",
       "      <th>2013</th>\n",
       "      <td>10322.25</td>\n",
       "      <td>12000.0</td>\n",
       "    </tr>\n",
       "    <tr>\n",
       "      <th>2014</th>\n",
       "      <td>9873.91</td>\n",
       "      <td>12000.0</td>\n",
       "    </tr>\n",
       "    <tr>\n",
       "      <th>2015</th>\n",
       "      <td>10313.40</td>\n",
       "      <td>12000.0</td>\n",
       "    </tr>\n",
       "    <tr>\n",
       "      <th>2016</th>\n",
       "      <td>10077.22</td>\n",
       "      <td>12000.0</td>\n",
       "    </tr>\n",
       "    <tr>\n",
       "      <th>2017</th>\n",
       "      <td>10920.25</td>\n",
       "      <td>12000.0</td>\n",
       "    </tr>\n",
       "    <tr>\n",
       "      <th>2018</th>\n",
       "      <td>12882.90</td>\n",
       "      <td>12000.0</td>\n",
       "    </tr>\n",
       "  </tbody>\n",
       "</table>\n",
       "</div>"
      ],
      "text/plain": [
       "         Summe       HS\n",
       "Jahr                   \n",
       "2009   8219.23  12000.0\n",
       "2010   8458.19  12000.0\n",
       "2011   9187.04  12000.0\n",
       "2012  10488.14  12000.0\n",
       "2013  10322.25  12000.0\n",
       "2014   9873.91  12000.0\n",
       "2015  10313.40  12000.0\n",
       "2016  10077.22  12000.0\n",
       "2017  10920.25  12000.0\n",
       "2018  12882.90  12000.0"
      ]
     },
     "execution_count": 11,
     "metadata": {},
     "output_type": "execute_result"
    }
   ],
   "source": [
    "new"
   ]
  },
  {
   "cell_type": "code",
   "execution_count": null,
   "metadata": {},
   "outputs": [],
   "source": []
  },
  {
   "cell_type": "code",
   "execution_count": 17,
   "metadata": {},
   "outputs": [],
   "source": [
    "def hs_es_percent(es, hs):\n",
    "    \n",
    "    # calculate needed variables\n",
    "    laufzeit = es['LfztJahre'].iloc[0]\n",
    "    year_start = es['Jahr'].unique().min()\n",
    "    year_now = es['Jahr'].unique().max()\n",
    "    rest_laufzeit = laufzeit - (year_now +1 - year_start)\n",
    "    \n",
    "    hs_year = hs[hs['Jahr']==year_now].sum()[['ENLH', 'ENNH', 'VNLH', 'VNNH', 'Summe']]\n",
    "    \n",
    "    # HS\n",
    "    hs_garph = np.ones(laufzeit) * hs_year['Summe']\n",
    "    # index\n",
    "    index_graph = np.arange(year_start, year_start+laufzeit)\n",
    "    # create HS dataframe with years as index\n",
    "    hs_garph = pd.DataFrame(hs_garph, index=index_graph, columns=['gesamt HS'])\n",
    "    \n",
    "    # ES\n",
    "    es_g = es.groupby('Jahr').sum()*(-1)\n",
    "    es_garph = es_g.loc[:,['Summe']]\n",
    "    es_garph.columns = ['gesamt ES']\n",
    "    \n",
    "    # concatonate HS & ES\n",
    "    all_graph = pd.concat([es_garph, hs_garph], axis=1)\n",
    "    # fill nan with bilanz HS\n",
    "    all_graph = all_graph.fillna(bilz_hs['Summe'])\n",
    "    # compute percentage\n",
    "    all_graph = all_graph/hs_garph.sum()[0] * 100\n",
    "    \n",
    "    return(all_graph)"
   ]
  },
  {
   "cell_type": "code",
   "execution_count": 18,
   "metadata": {},
   "outputs": [],
   "source": [
    "def plot_hs_es_percent(data, col):\n",
    "    #fig = plt.figure(figsize=(9,2))\n",
    "    #ax = fig.add_subplot(111)\n",
    "\n",
    "    #ax.bar(new['Summe'], height=0.3, stacked=True, color=color, edgecolor = \"green\")\n",
    "\n",
    "    fig, ax = plt.subplots()\n",
    "    #ax.pie([diff,es_s], colors=['green', 'red'], labels=['frei', 'genutzt'], startangle=90)\n",
    "    data.T.plot(kind='barh', ax=ax, width=0.2, stacked=True, color=col, edgecolor = 'white', linewidth=2, figsize=(12,1.5), legend=False)\n",
    "    #ax.set_xlabel('Procent [%]')\n",
    "    ax.spines['right'].set_color('none')\n",
    "    ax.spines['top'].set_color('none')\n",
    "    ax.spines['left'].set_color('none')\n",
    "    ax.spines['bottom'].set_color('none')\n",
    "    ax.spines['left'].set_smart_bounds(True)\n",
    "    ax.spines['bottom'].set_smart_bounds(True)\n",
    "    plt.show"
   ]
  },
  {
   "cell_type": "code",
   "execution_count": 19,
   "metadata": {},
   "outputs": [],
   "source": [
    "def get_colors(laufzeit, rest_laufzeit):\n",
    "    col = []\n",
    "    for i in range(laufzeit-rest_laufzeit):\n",
    "        col.append('red')\n",
    "    for i in range(rest_laufzeit):\n",
    "        col.append('green')\n",
    "    return(col)"
   ]
  },
  {
   "cell_type": "code",
   "execution_count": 20,
   "metadata": {},
   "outputs": [
    {
     "ename": "NameError",
     "evalue": "name 'bilz_hs' is not defined",
     "output_type": "error",
     "traceback": [
      "\u001b[0;31m---------------------------------------------------------------------------\u001b[0m",
      "\u001b[0;31mNameError\u001b[0m                                 Traceback (most recent call last)",
      "\u001b[0;32m<ipython-input-20-17218451baf8>\u001b[0m in \u001b[0;36m<module>\u001b[0;34m\u001b[0m\n\u001b[0;32m----> 1\u001b[0;31m \u001b[0mdata\u001b[0m \u001b[0;34m=\u001b[0m \u001b[0mhs_es_percent\u001b[0m\u001b[0;34m(\u001b[0m\u001b[0mes\u001b[0m\u001b[0;34m,\u001b[0m \u001b[0mhs\u001b[0m\u001b[0;34m)\u001b[0m\u001b[0;34m\u001b[0m\u001b[0;34m\u001b[0m\u001b[0m\n\u001b[0m",
      "\u001b[0;32m<ipython-input-17-fe2e036fe780>\u001b[0m in \u001b[0;36mhs_es_percent\u001b[0;34m(es, hs)\u001b[0m\n\u001b[1;32m     24\u001b[0m     \u001b[0mall_graph\u001b[0m \u001b[0;34m=\u001b[0m \u001b[0mpd\u001b[0m\u001b[0;34m.\u001b[0m\u001b[0mconcat\u001b[0m\u001b[0;34m(\u001b[0m\u001b[0;34m[\u001b[0m\u001b[0mes_garph\u001b[0m\u001b[0;34m,\u001b[0m \u001b[0mhs_garph\u001b[0m\u001b[0;34m]\u001b[0m\u001b[0;34m,\u001b[0m \u001b[0maxis\u001b[0m\u001b[0;34m=\u001b[0m\u001b[0;36m1\u001b[0m\u001b[0;34m)\u001b[0m\u001b[0;34m\u001b[0m\u001b[0;34m\u001b[0m\u001b[0m\n\u001b[1;32m     25\u001b[0m     \u001b[0;31m# fill nan with bilanz HS\u001b[0m\u001b[0;34m\u001b[0m\u001b[0;34m\u001b[0m\u001b[0;34m\u001b[0m\u001b[0m\n\u001b[0;32m---> 26\u001b[0;31m     \u001b[0mall_graph\u001b[0m \u001b[0;34m=\u001b[0m \u001b[0mall_graph\u001b[0m\u001b[0;34m.\u001b[0m\u001b[0mfillna\u001b[0m\u001b[0;34m(\u001b[0m\u001b[0mbilz_hs\u001b[0m\u001b[0;34m[\u001b[0m\u001b[0;34m'Summe'\u001b[0m\u001b[0;34m]\u001b[0m\u001b[0;34m)\u001b[0m\u001b[0;34m\u001b[0m\u001b[0;34m\u001b[0m\u001b[0m\n\u001b[0m\u001b[1;32m     27\u001b[0m     \u001b[0;31m# compute percentage\u001b[0m\u001b[0;34m\u001b[0m\u001b[0;34m\u001b[0m\u001b[0;34m\u001b[0m\u001b[0m\n\u001b[1;32m     28\u001b[0m     \u001b[0mall_graph\u001b[0m \u001b[0;34m=\u001b[0m \u001b[0mall_graph\u001b[0m\u001b[0;34m/\u001b[0m\u001b[0mhs_garph\u001b[0m\u001b[0;34m.\u001b[0m\u001b[0msum\u001b[0m\u001b[0;34m(\u001b[0m\u001b[0;34m)\u001b[0m\u001b[0;34m[\u001b[0m\u001b[0;36m0\u001b[0m\u001b[0;34m]\u001b[0m \u001b[0;34m*\u001b[0m \u001b[0;36m100\u001b[0m\u001b[0;34m\u001b[0m\u001b[0;34m\u001b[0m\u001b[0m\n",
      "\u001b[0;31mNameError\u001b[0m: name 'bilz_hs' is not defined"
     ]
    }
   ],
   "source": [
    "data = hs_es_percent(es, hs)"
   ]
  },
  {
   "cell_type": "code",
   "execution_count": 10,
   "metadata": {},
   "outputs": [],
   "source": [
    "col = get_colors(11, 1)"
   ]
  },
  {
   "cell_type": "code",
   "execution_count": 11,
   "metadata": {},
   "outputs": [
    {
     "ename": "TypeError",
     "evalue": "Empty 'DataFrame': no numeric data to plot",
     "output_type": "error",
     "traceback": [
      "\u001b[0;31m---------------------------------------------------------------------------\u001b[0m",
      "\u001b[0;31mTypeError\u001b[0m                                 Traceback (most recent call last)",
      "\u001b[0;32m<ipython-input-11-f747f75e7d13>\u001b[0m in \u001b[0;36m<module>\u001b[0;34m\u001b[0m\n\u001b[0;32m----> 1\u001b[0;31m \u001b[0mplot_hs_es_percent\u001b[0m\u001b[0;34m(\u001b[0m\u001b[0mdata\u001b[0m\u001b[0;34m,\u001b[0m \u001b[0mcol\u001b[0m\u001b[0;34m)\u001b[0m\u001b[0;34m\u001b[0m\u001b[0;34m\u001b[0m\u001b[0m\n\u001b[0m",
      "\u001b[0;32m<ipython-input-7-ea94a908a2a3>\u001b[0m in \u001b[0;36mplot_hs_es_percent\u001b[0;34m(data, col)\u001b[0m\n\u001b[1;32m      7\u001b[0m     \u001b[0mfig\u001b[0m\u001b[0;34m,\u001b[0m \u001b[0max\u001b[0m \u001b[0;34m=\u001b[0m \u001b[0mplt\u001b[0m\u001b[0;34m.\u001b[0m\u001b[0msubplots\u001b[0m\u001b[0;34m(\u001b[0m\u001b[0;34m)\u001b[0m\u001b[0;34m\u001b[0m\u001b[0;34m\u001b[0m\u001b[0m\n\u001b[1;32m      8\u001b[0m     \u001b[0;31m#ax.pie([diff,es_s], colors=['green', 'red'], labels=['frei', 'genutzt'], startangle=90)\u001b[0m\u001b[0;34m\u001b[0m\u001b[0;34m\u001b[0m\u001b[0;34m\u001b[0m\u001b[0m\n\u001b[0;32m----> 9\u001b[0;31m     \u001b[0mdata\u001b[0m\u001b[0;34m.\u001b[0m\u001b[0mT\u001b[0m\u001b[0;34m.\u001b[0m\u001b[0mplot\u001b[0m\u001b[0;34m(\u001b[0m\u001b[0mkind\u001b[0m\u001b[0;34m=\u001b[0m\u001b[0;34m'barh'\u001b[0m\u001b[0;34m,\u001b[0m \u001b[0max\u001b[0m\u001b[0;34m=\u001b[0m\u001b[0max\u001b[0m\u001b[0;34m,\u001b[0m \u001b[0mwidth\u001b[0m\u001b[0;34m=\u001b[0m\u001b[0;36m0.2\u001b[0m\u001b[0;34m,\u001b[0m \u001b[0mstacked\u001b[0m\u001b[0;34m=\u001b[0m\u001b[0;32mTrue\u001b[0m\u001b[0;34m,\u001b[0m \u001b[0mcolor\u001b[0m\u001b[0;34m=\u001b[0m\u001b[0mcol\u001b[0m\u001b[0;34m,\u001b[0m \u001b[0medgecolor\u001b[0m \u001b[0;34m=\u001b[0m \u001b[0;34m'white'\u001b[0m\u001b[0;34m,\u001b[0m \u001b[0mlinewidth\u001b[0m\u001b[0;34m=\u001b[0m\u001b[0;36m2\u001b[0m\u001b[0;34m,\u001b[0m \u001b[0mfigsize\u001b[0m\u001b[0;34m=\u001b[0m\u001b[0;34m(\u001b[0m\u001b[0;36m12\u001b[0m\u001b[0;34m,\u001b[0m\u001b[0;36m1.5\u001b[0m\u001b[0;34m)\u001b[0m\u001b[0;34m,\u001b[0m \u001b[0mlegend\u001b[0m\u001b[0;34m=\u001b[0m\u001b[0;32mFalse\u001b[0m\u001b[0;34m)\u001b[0m\u001b[0;34m\u001b[0m\u001b[0;34m\u001b[0m\u001b[0m\n\u001b[0m\u001b[1;32m     10\u001b[0m     \u001b[0;31m#ax.set_xlabel('Procent [%]')\u001b[0m\u001b[0;34m\u001b[0m\u001b[0;34m\u001b[0m\u001b[0;34m\u001b[0m\u001b[0m\n\u001b[1;32m     11\u001b[0m     \u001b[0max\u001b[0m\u001b[0;34m.\u001b[0m\u001b[0mspines\u001b[0m\u001b[0;34m[\u001b[0m\u001b[0;34m'right'\u001b[0m\u001b[0;34m]\u001b[0m\u001b[0;34m.\u001b[0m\u001b[0mset_color\u001b[0m\u001b[0;34m(\u001b[0m\u001b[0;34m'none'\u001b[0m\u001b[0;34m)\u001b[0m\u001b[0;34m\u001b[0m\u001b[0;34m\u001b[0m\u001b[0m\n",
      "\u001b[0;32m~/Python/anaconda3/lib/python3.6/site-packages/pandas/plotting/_core.py\u001b[0m in \u001b[0;36m__call__\u001b[0;34m(self, x, y, kind, ax, subplots, sharex, sharey, layout, figsize, use_index, title, grid, legend, style, logx, logy, loglog, xticks, yticks, xlim, ylim, rot, fontsize, colormap, table, yerr, xerr, secondary_y, sort_columns, **kwds)\u001b[0m\n\u001b[1;32m   2939\u001b[0m                           \u001b[0mfontsize\u001b[0m\u001b[0;34m=\u001b[0m\u001b[0mfontsize\u001b[0m\u001b[0;34m,\u001b[0m \u001b[0mcolormap\u001b[0m\u001b[0;34m=\u001b[0m\u001b[0mcolormap\u001b[0m\u001b[0;34m,\u001b[0m \u001b[0mtable\u001b[0m\u001b[0;34m=\u001b[0m\u001b[0mtable\u001b[0m\u001b[0;34m,\u001b[0m\u001b[0;34m\u001b[0m\u001b[0;34m\u001b[0m\u001b[0m\n\u001b[1;32m   2940\u001b[0m                           \u001b[0myerr\u001b[0m\u001b[0;34m=\u001b[0m\u001b[0myerr\u001b[0m\u001b[0;34m,\u001b[0m \u001b[0mxerr\u001b[0m\u001b[0;34m=\u001b[0m\u001b[0mxerr\u001b[0m\u001b[0;34m,\u001b[0m \u001b[0msecondary_y\u001b[0m\u001b[0;34m=\u001b[0m\u001b[0msecondary_y\u001b[0m\u001b[0;34m,\u001b[0m\u001b[0;34m\u001b[0m\u001b[0;34m\u001b[0m\u001b[0m\n\u001b[0;32m-> 2941\u001b[0;31m                           sort_columns=sort_columns, **kwds)\n\u001b[0m\u001b[1;32m   2942\u001b[0m     \u001b[0m__call__\u001b[0m\u001b[0;34m.\u001b[0m\u001b[0m__doc__\u001b[0m \u001b[0;34m=\u001b[0m \u001b[0mplot_frame\u001b[0m\u001b[0;34m.\u001b[0m\u001b[0m__doc__\u001b[0m\u001b[0;34m\u001b[0m\u001b[0;34m\u001b[0m\u001b[0m\n\u001b[1;32m   2943\u001b[0m \u001b[0;34m\u001b[0m\u001b[0m\n",
      "\u001b[0;32m~/Python/anaconda3/lib/python3.6/site-packages/pandas/plotting/_core.py\u001b[0m in \u001b[0;36mplot_frame\u001b[0;34m(data, x, y, kind, ax, subplots, sharex, sharey, layout, figsize, use_index, title, grid, legend, style, logx, logy, loglog, xticks, yticks, xlim, ylim, rot, fontsize, colormap, table, yerr, xerr, secondary_y, sort_columns, **kwds)\u001b[0m\n\u001b[1;32m   1975\u001b[0m                  \u001b[0myerr\u001b[0m\u001b[0;34m=\u001b[0m\u001b[0myerr\u001b[0m\u001b[0;34m,\u001b[0m \u001b[0mxerr\u001b[0m\u001b[0;34m=\u001b[0m\u001b[0mxerr\u001b[0m\u001b[0;34m,\u001b[0m\u001b[0;34m\u001b[0m\u001b[0;34m\u001b[0m\u001b[0m\n\u001b[1;32m   1976\u001b[0m                  \u001b[0msecondary_y\u001b[0m\u001b[0;34m=\u001b[0m\u001b[0msecondary_y\u001b[0m\u001b[0;34m,\u001b[0m \u001b[0msort_columns\u001b[0m\u001b[0;34m=\u001b[0m\u001b[0msort_columns\u001b[0m\u001b[0;34m,\u001b[0m\u001b[0;34m\u001b[0m\u001b[0;34m\u001b[0m\u001b[0m\n\u001b[0;32m-> 1977\u001b[0;31m                  **kwds)\n\u001b[0m\u001b[1;32m   1978\u001b[0m \u001b[0;34m\u001b[0m\u001b[0m\n\u001b[1;32m   1979\u001b[0m \u001b[0;34m\u001b[0m\u001b[0m\n",
      "\u001b[0;32m~/Python/anaconda3/lib/python3.6/site-packages/pandas/plotting/_core.py\u001b[0m in \u001b[0;36m_plot\u001b[0;34m(data, x, y, subplots, ax, kind, **kwds)\u001b[0m\n\u001b[1;32m   1802\u001b[0m         \u001b[0mplot_obj\u001b[0m \u001b[0;34m=\u001b[0m \u001b[0mklass\u001b[0m\u001b[0;34m(\u001b[0m\u001b[0mdata\u001b[0m\u001b[0;34m,\u001b[0m \u001b[0msubplots\u001b[0m\u001b[0;34m=\u001b[0m\u001b[0msubplots\u001b[0m\u001b[0;34m,\u001b[0m \u001b[0max\u001b[0m\u001b[0;34m=\u001b[0m\u001b[0max\u001b[0m\u001b[0;34m,\u001b[0m \u001b[0mkind\u001b[0m\u001b[0;34m=\u001b[0m\u001b[0mkind\u001b[0m\u001b[0;34m,\u001b[0m \u001b[0;34m**\u001b[0m\u001b[0mkwds\u001b[0m\u001b[0;34m)\u001b[0m\u001b[0;34m\u001b[0m\u001b[0;34m\u001b[0m\u001b[0m\n\u001b[1;32m   1803\u001b[0m \u001b[0;34m\u001b[0m\u001b[0m\n\u001b[0;32m-> 1804\u001b[0;31m     \u001b[0mplot_obj\u001b[0m\u001b[0;34m.\u001b[0m\u001b[0mgenerate\u001b[0m\u001b[0;34m(\u001b[0m\u001b[0;34m)\u001b[0m\u001b[0;34m\u001b[0m\u001b[0;34m\u001b[0m\u001b[0m\n\u001b[0m\u001b[1;32m   1805\u001b[0m     \u001b[0mplot_obj\u001b[0m\u001b[0;34m.\u001b[0m\u001b[0mdraw\u001b[0m\u001b[0;34m(\u001b[0m\u001b[0;34m)\u001b[0m\u001b[0;34m\u001b[0m\u001b[0;34m\u001b[0m\u001b[0m\n\u001b[1;32m   1806\u001b[0m     \u001b[0;32mreturn\u001b[0m \u001b[0mplot_obj\u001b[0m\u001b[0;34m.\u001b[0m\u001b[0mresult\u001b[0m\u001b[0;34m\u001b[0m\u001b[0;34m\u001b[0m\u001b[0m\n",
      "\u001b[0;32m~/Python/anaconda3/lib/python3.6/site-packages/pandas/plotting/_core.py\u001b[0m in \u001b[0;36mgenerate\u001b[0;34m(self)\u001b[0m\n\u001b[1;32m    256\u001b[0m     \u001b[0;32mdef\u001b[0m \u001b[0mgenerate\u001b[0m\u001b[0;34m(\u001b[0m\u001b[0mself\u001b[0m\u001b[0;34m)\u001b[0m\u001b[0;34m:\u001b[0m\u001b[0;34m\u001b[0m\u001b[0;34m\u001b[0m\u001b[0m\n\u001b[1;32m    257\u001b[0m         \u001b[0mself\u001b[0m\u001b[0;34m.\u001b[0m\u001b[0m_args_adjust\u001b[0m\u001b[0;34m(\u001b[0m\u001b[0;34m)\u001b[0m\u001b[0;34m\u001b[0m\u001b[0;34m\u001b[0m\u001b[0m\n\u001b[0;32m--> 258\u001b[0;31m         \u001b[0mself\u001b[0m\u001b[0;34m.\u001b[0m\u001b[0m_compute_plot_data\u001b[0m\u001b[0;34m(\u001b[0m\u001b[0;34m)\u001b[0m\u001b[0;34m\u001b[0m\u001b[0;34m\u001b[0m\u001b[0m\n\u001b[0m\u001b[1;32m    259\u001b[0m         \u001b[0mself\u001b[0m\u001b[0;34m.\u001b[0m\u001b[0m_setup_subplots\u001b[0m\u001b[0;34m(\u001b[0m\u001b[0;34m)\u001b[0m\u001b[0;34m\u001b[0m\u001b[0;34m\u001b[0m\u001b[0m\n\u001b[1;32m    260\u001b[0m         \u001b[0mself\u001b[0m\u001b[0;34m.\u001b[0m\u001b[0m_make_plot\u001b[0m\u001b[0;34m(\u001b[0m\u001b[0;34m)\u001b[0m\u001b[0;34m\u001b[0m\u001b[0;34m\u001b[0m\u001b[0m\n",
      "\u001b[0;32m~/Python/anaconda3/lib/python3.6/site-packages/pandas/plotting/_core.py\u001b[0m in \u001b[0;36m_compute_plot_data\u001b[0;34m(self)\u001b[0m\n\u001b[1;32m    371\u001b[0m         \u001b[0;32mif\u001b[0m \u001b[0mis_empty\u001b[0m\u001b[0;34m:\u001b[0m\u001b[0;34m\u001b[0m\u001b[0;34m\u001b[0m\u001b[0m\n\u001b[1;32m    372\u001b[0m             raise TypeError('Empty {0!r}: no numeric data to '\n\u001b[0;32m--> 373\u001b[0;31m                             'plot'.format(numeric_data.__class__.__name__))\n\u001b[0m\u001b[1;32m    374\u001b[0m \u001b[0;34m\u001b[0m\u001b[0m\n\u001b[1;32m    375\u001b[0m         \u001b[0mself\u001b[0m\u001b[0;34m.\u001b[0m\u001b[0mdata\u001b[0m \u001b[0;34m=\u001b[0m \u001b[0mnumeric_data\u001b[0m\u001b[0;34m\u001b[0m\u001b[0;34m\u001b[0m\u001b[0m\n",
      "\u001b[0;31mTypeError\u001b[0m: Empty 'DataFrame': no numeric data to plot"
     ]
    },
    {
     "data": {
      "image/png": "[encoded data removed]",
      "text/plain": [
       "<Figure size 432x288 with 1 Axes>"
      ]
     },
     "metadata": {
      "needs_background": "light"
     },
     "output_type": "display_data"
    }
   ],
   "source": [
    "plot_hs_es_percent(data, col)"
   ]
  },
  {
   "cell_type": "code",
   "execution_count": 110,
   "metadata": {},
   "outputs": [
    {
     "data": {
      "text/html": [
       "<div>\n",
       "<style scoped>\n",
       "    .dataframe tbody tr th:only-of-type {\n",
       "        vertical-align: middle;\n",
       "    }\n",
       "\n",
       "    .dataframe tbody tr th {\n",
       "        vertical-align: top;\n",
       "    }\n",
       "\n",
       "    .dataframe thead th {\n",
       "        text-align: right;\n",
       "    }\n",
       "</style>\n",
       "<table border=\"1\" class=\"dataframe\">\n",
       "  <thead>\n",
       "    <tr style=\"text-align: right;\">\n",
       "      <th></th>\n",
       "      <th>gesamt ES</th>\n",
       "      <th>gesamt HS</th>\n",
       "    </tr>\n",
       "  </thead>\n",
       "  <tbody>\n",
       "    <tr>\n",
       "      <th>2009</th>\n",
       "      <td>8219.23</td>\n",
       "      <td>12000.0</td>\n",
       "    </tr>\n",
       "    <tr>\n",
       "      <th>2010</th>\n",
       "      <td>8458.19</td>\n",
       "      <td>12000.0</td>\n",
       "    </tr>\n",
       "    <tr>\n",
       "      <th>2011</th>\n",
       "      <td>9187.04</td>\n",
       "      <td>12000.0</td>\n",
       "    </tr>\n",
       "    <tr>\n",
       "      <th>2012</th>\n",
       "      <td>10488.14</td>\n",
       "      <td>12000.0</td>\n",
       "    </tr>\n",
       "    <tr>\n",
       "      <th>2013</th>\n",
       "      <td>10322.25</td>\n",
       "      <td>12000.0</td>\n",
       "    </tr>\n",
       "    <tr>\n",
       "      <th>2014</th>\n",
       "      <td>9873.91</td>\n",
       "      <td>12000.0</td>\n",
       "    </tr>\n",
       "    <tr>\n",
       "      <th>2015</th>\n",
       "      <td>10313.40</td>\n",
       "      <td>12000.0</td>\n",
       "    </tr>\n",
       "    <tr>\n",
       "      <th>2016</th>\n",
       "      <td>10077.22</td>\n",
       "      <td>12000.0</td>\n",
       "    </tr>\n",
       "    <tr>\n",
       "      <th>2017</th>\n",
       "      <td>10920.25</td>\n",
       "      <td>12000.0</td>\n",
       "    </tr>\n",
       "    <tr>\n",
       "      <th>2018</th>\n",
       "      <td>12882.90</td>\n",
       "      <td>12000.0</td>\n",
       "    </tr>\n",
       "    <tr>\n",
       "      <th>2019</th>\n",
       "      <td>31257.47</td>\n",
       "      <td>12000.0</td>\n",
       "    </tr>\n",
       "  </tbody>\n",
       "</table>\n",
       "</div>"
      ],
      "text/plain": [
       "      gesamt ES  gesamt HS\n",
       "2009    8219.23    12000.0\n",
       "2010    8458.19    12000.0\n",
       "2011    9187.04    12000.0\n",
       "2012   10488.14    12000.0\n",
       "2013   10322.25    12000.0\n",
       "2014    9873.91    12000.0\n",
       "2015   10313.40    12000.0\n",
       "2016   10077.22    12000.0\n",
       "2017   10920.25    12000.0\n",
       "2018   12882.90    12000.0\n",
       "2019   31257.47    12000.0"
      ]
     },
     "execution_count": 110,
     "metadata": {},
     "output_type": "execute_result"
    }
   ],
   "source": [
    "data"
   ]
  },
  {
   "cell_type": "code",
   "execution_count": null,
   "metadata": {},
   "outputs": [],
   "source": []
  },
  {
   "cell_type": "code",
   "execution_count": null,
   "metadata": {},
   "outputs": [],
   "source": []
  },
  {
   "cell_type": "code",
   "execution_count": null,
   "metadata": {},
   "outputs": [],
   "source": []
  },
  {
   "cell_type": "code",
   "execution_count": null,
   "metadata": {},
   "outputs": [],
   "source": []
  },
  {
   "cell_type": "code",
   "execution_count": 15,
   "metadata": {},
   "outputs": [
    {
     "name": "stdout",
     "output_type": "stream",
     "text": [
      "hs_ges\n",
      "ENLH      75900\n",
      "ENNH       1100\n",
      "VNLH      51040\n",
      "VNNH       3960\n",
      "Summe    132000\n",
      "dtype: object\n",
      "es_sum\n",
      "ENLH     -51141.43\n",
      "ENNH      -1011.14\n",
      "VNLH     -44723.33\n",
      "VNNH      -3866.63\n",
      "Summe   -100742.53\n",
      "dtype: float64\n"
     ]
    }
   ],
   "source": [
    "\n",
    "laufzeit = es['LfztJahre'].iloc[0]\n",
    "year_start = es['Jahr'].unique().min()\n",
    "year_now = es['Jahr'].unique().max()\n",
    "rest_laufzeit = laufzeit - (year_now +1 - year_start)\n",
    "    \n",
    "hs_year = hs[hs['Jahr']==year_now].sum()[['ENLH', 'ENNH', 'VNLH', 'VNNH', 'Summe']]\n",
    "    \n",
    "hs_ges = hs_year * laufzeit\n",
    "es_sum = es[['ENLH', 'ENNH', 'VNLH', 'VNNH', 'Summe']].sum()\n",
    "hs_sum = hs[['ENLH', 'ENNH', 'VNLH', 'VNNH', 'Summe']].sum()\n",
    "bilz_hs = (hs_ges + es_sum) / rest_laufzeit\n",
    "print('hs_ges')\n",
    "print(hs_ges)\n",
    "print('es_sum')\n",
    "print(es_sum)"
   ]
  },
  {
   "cell_type": "code",
   "execution_count": 16,
   "metadata": {},
   "outputs": [
    {
     "data": {
      "text/plain": [
       "11"
      ]
     },
     "execution_count": 16,
     "metadata": {},
     "output_type": "execute_result"
    }
   ],
   "source": [
    "laufzeit"
   ]
  },
  {
   "cell_type": "code",
   "execution_count": 19,
   "metadata": {},
   "outputs": [
    {
     "data": {
      "text/plain": [
       "12000.0"
      ]
     },
     "execution_count": 19,
     "metadata": {},
     "output_type": "execute_result"
    }
   ],
   "source": [
    "hs_year['Summe']"
   ]
  },
  {
   "cell_type": "code",
   "execution_count": 24,
   "metadata": {},
   "outputs": [],
   "source": [
    "# HS\n",
    "hs_garph = np.ones(laufzeit) * hs_year['Summe']"
   ]
  },
  {
   "cell_type": "code",
   "execution_count": 38,
   "metadata": {},
   "outputs": [],
   "source": [
    "# index\n",
    "index_graph = np.arange(year_start, year_start+laufzeit)"
   ]
  },
  {
   "cell_type": "code",
   "execution_count": 39,
   "metadata": {},
   "outputs": [],
   "source": [
    "hs_garph = pd.DataFrame(hs_garph, index=index_graph, columns=['HS'])"
   ]
  },
  {
   "cell_type": "code",
   "execution_count": 40,
   "metadata": {},
   "outputs": [
    {
     "data": {
      "text/html": [
       "<div>\n",
       "<style scoped>\n",
       "    .dataframe tbody tr th:only-of-type {\n",
       "        vertical-align: middle;\n",
       "    }\n",
       "\n",
       "    .dataframe tbody tr th {\n",
       "        vertical-align: top;\n",
       "    }\n",
       "\n",
       "    .dataframe thead th {\n",
       "        text-align: right;\n",
       "    }\n",
       "</style>\n",
       "<table border=\"1\" class=\"dataframe\">\n",
       "  <thead>\n",
       "    <tr style=\"text-align: right;\">\n",
       "      <th></th>\n",
       "      <th>HS</th>\n",
       "    </tr>\n",
       "  </thead>\n",
       "  <tbody>\n",
       "    <tr>\n",
       "      <th>2009</th>\n",
       "      <td>12000.0</td>\n",
       "    </tr>\n",
       "    <tr>\n",
       "      <th>2010</th>\n",
       "      <td>12000.0</td>\n",
       "    </tr>\n",
       "    <tr>\n",
       "      <th>2011</th>\n",
       "      <td>12000.0</td>\n",
       "    </tr>\n",
       "    <tr>\n",
       "      <th>2012</th>\n",
       "      <td>12000.0</td>\n",
       "    </tr>\n",
       "    <tr>\n",
       "      <th>2013</th>\n",
       "      <td>12000.0</td>\n",
       "    </tr>\n",
       "    <tr>\n",
       "      <th>2014</th>\n",
       "      <td>12000.0</td>\n",
       "    </tr>\n",
       "    <tr>\n",
       "      <th>2015</th>\n",
       "      <td>12000.0</td>\n",
       "    </tr>\n",
       "    <tr>\n",
       "      <th>2016</th>\n",
       "      <td>12000.0</td>\n",
       "    </tr>\n",
       "    <tr>\n",
       "      <th>2017</th>\n",
       "      <td>12000.0</td>\n",
       "    </tr>\n",
       "    <tr>\n",
       "      <th>2018</th>\n",
       "      <td>12000.0</td>\n",
       "    </tr>\n",
       "    <tr>\n",
       "      <th>2019</th>\n",
       "      <td>12000.0</td>\n",
       "    </tr>\n",
       "  </tbody>\n",
       "</table>\n",
       "</div>"
      ],
      "text/plain": [
       "           HS\n",
       "2009  12000.0\n",
       "2010  12000.0\n",
       "2011  12000.0\n",
       "2012  12000.0\n",
       "2013  12000.0\n",
       "2014  12000.0\n",
       "2015  12000.0\n",
       "2016  12000.0\n",
       "2017  12000.0\n",
       "2018  12000.0\n",
       "2019  12000.0"
      ]
     },
     "execution_count": 40,
     "metadata": {},
     "output_type": "execute_result"
    }
   ],
   "source": [
    "hs_garph"
   ]
  },
  {
   "cell_type": "code",
   "execution_count": null,
   "metadata": {},
   "outputs": [],
   "source": []
  },
  {
   "cell_type": "code",
   "execution_count": 27,
   "metadata": {},
   "outputs": [],
   "source": [
    "es_garph = es_g.loc[:,['Summe']]"
   ]
  },
  {
   "cell_type": "code",
   "execution_count": 30,
   "metadata": {},
   "outputs": [],
   "source": [
    "bilz_garph = np.ones(rest_laufzeit) * bilz_hs['Summe']"
   ]
  },
  {
   "cell_type": "code",
   "execution_count": 34,
   "metadata": {},
   "outputs": [],
   "source": [
    "bilz_garph = pd.DataFrame(bilz_garph, index=[2019], columns=['Summe'])"
   ]
  },
  {
   "cell_type": "code",
   "execution_count": 36,
   "metadata": {},
   "outputs": [],
   "source": [
    "es_bilz_garph = es_garph.append(bilz_garph)"
   ]
  },
  {
   "cell_type": "code",
   "execution_count": null,
   "metadata": {},
   "outputs": [],
   "source": []
  },
  {
   "cell_type": "code",
   "execution_count": 96,
   "metadata": {},
   "outputs": [],
   "source": [
    "all_graph = pd.concat([hs_garph, es_bilz_garph], axis=1)"
   ]
  },
  {
   "cell_type": "code",
   "execution_count": 97,
   "metadata": {},
   "outputs": [],
   "source": [
    "all_graph = all_graph/hs_garph.sum()[0] * 100"
   ]
  },
  {
   "cell_type": "code",
   "execution_count": 98,
   "metadata": {},
   "outputs": [
    {
     "data": {
      "text/html": [
       "<div>\n",
       "<style scoped>\n",
       "    .dataframe tbody tr th:only-of-type {\n",
       "        vertical-align: middle;\n",
       "    }\n",
       "\n",
       "    .dataframe tbody tr th {\n",
       "        vertical-align: top;\n",
       "    }\n",
       "\n",
       "    .dataframe thead th {\n",
       "        text-align: right;\n",
       "    }\n",
       "</style>\n",
       "<table border=\"1\" class=\"dataframe\">\n",
       "  <thead>\n",
       "    <tr style=\"text-align: right;\">\n",
       "      <th></th>\n",
       "      <th>HS</th>\n",
       "      <th>Summe</th>\n",
       "    </tr>\n",
       "  </thead>\n",
       "  <tbody>\n",
       "    <tr>\n",
       "      <th>2009</th>\n",
       "      <td>9.090909</td>\n",
       "      <td>6.226689</td>\n",
       "    </tr>\n",
       "    <tr>\n",
       "      <th>2010</th>\n",
       "      <td>9.090909</td>\n",
       "      <td>6.407720</td>\n",
       "    </tr>\n",
       "    <tr>\n",
       "      <th>2011</th>\n",
       "      <td>9.090909</td>\n",
       "      <td>6.959879</td>\n",
       "    </tr>\n",
       "    <tr>\n",
       "      <th>2012</th>\n",
       "      <td>9.090909</td>\n",
       "      <td>7.945561</td>\n",
       "    </tr>\n",
       "    <tr>\n",
       "      <th>2013</th>\n",
       "      <td>9.090909</td>\n",
       "      <td>7.819886</td>\n",
       "    </tr>\n",
       "    <tr>\n",
       "      <th>2014</th>\n",
       "      <td>9.090909</td>\n",
       "      <td>7.480235</td>\n",
       "    </tr>\n",
       "    <tr>\n",
       "      <th>2015</th>\n",
       "      <td>9.090909</td>\n",
       "      <td>7.813182</td>\n",
       "    </tr>\n",
       "    <tr>\n",
       "      <th>2016</th>\n",
       "      <td>9.090909</td>\n",
       "      <td>7.634258</td>\n",
       "    </tr>\n",
       "    <tr>\n",
       "      <th>2017</th>\n",
       "      <td>9.090909</td>\n",
       "      <td>8.272917</td>\n",
       "    </tr>\n",
       "    <tr>\n",
       "      <th>2018</th>\n",
       "      <td>9.090909</td>\n",
       "      <td>9.759773</td>\n",
       "    </tr>\n",
       "    <tr>\n",
       "      <th>2019</th>\n",
       "      <td>9.090909</td>\n",
       "      <td>23.679902</td>\n",
       "    </tr>\n",
       "  </tbody>\n",
       "</table>\n",
       "</div>"
      ],
      "text/plain": [
       "            HS      Summe\n",
       "2009  9.090909   6.226689\n",
       "2010  9.090909   6.407720\n",
       "2011  9.090909   6.959879\n",
       "2012  9.090909   7.945561\n",
       "2013  9.090909   7.819886\n",
       "2014  9.090909   7.480235\n",
       "2015  9.090909   7.813182\n",
       "2016  9.090909   7.634258\n",
       "2017  9.090909   8.272917\n",
       "2018  9.090909   9.759773\n",
       "2019  9.090909  23.679902"
      ]
     },
     "execution_count": 98,
     "metadata": {},
     "output_type": "execute_result"
    }
   ],
   "source": [
    "all_graph"
   ]
  },
  {
   "cell_type": "code",
   "execution_count": null,
   "metadata": {},
   "outputs": [],
   "source": []
  },
  {
   "cell_type": "code",
   "execution_count": 53,
   "metadata": {},
   "outputs": [],
   "source": [
    "test_graph = pd.concat([es_garph, hs_garph], axis=1)"
   ]
  },
  {
   "cell_type": "code",
   "execution_count": 54,
   "metadata": {},
   "outputs": [],
   "source": [
    "all_graph = test_graph.fillna(bilz_hs['Summe'])"
   ]
  },
  {
   "cell_type": "code",
   "execution_count": null,
   "metadata": {},
   "outputs": [],
   "source": []
  },
  {
   "cell_type": "code",
   "execution_count": 100,
   "metadata": {},
   "outputs": [
    {
     "data": {
      "image/png": "[encoded data removed]",
      "text/plain": [
       "<Figure size 864x108 with 1 Axes>"
      ]
     },
     "metadata": {
      "needs_background": "light"
     },
     "output_type": "display_data"
    }
   ],
   "source": [
    "#fig = plt.figure(figsize=(9,2))\n",
    "#ax = fig.add_subplot(111)\n",
    "\n",
    "#ax.bar(new['Summe'], height=0.3, stacked=True, color=color, edgecolor = \"green\")\n",
    "\n",
    "fig, ax = plt.subplots()\n",
    "#ax.pie([diff,es_s], colors=['green', 'red'], labels=['frei', 'genutzt'], startangle=90)\n",
    "all_graph.T.plot(kind='barh', ax=ax, stacked=True, color=col, edgecolor = 'white', figsize=(12,1.5), legend=False)\n",
    "ax.set_xlabel('Procent [%]')\n",
    "ax.spines['right'].set_color('none')\n",
    "ax.spines['top'].set_color('none')\n",
    "ax.spines['left'].set_color('none')\n",
    "ax.spines['bottom'].set_color('none')\n",
    "ax.spines['left'].set_smart_bounds(True)\n",
    "ax.spines['bottom'].set_smart_bounds(True)"
   ]
  },
  {
   "cell_type": "code",
   "execution_count": 48,
   "metadata": {},
   "outputs": [],
   "source": [
    "color=['lightred','lightred','lightred','lightred','lightred','lightred','lightred','lightred','lightred','lightred','lightgreen']"
   ]
  },
  {
   "cell_type": "code",
   "execution_count": 60,
   "metadata": {},
   "outputs": [],
   "source": [
    "col = []\n",
    "for i in range(laufzeit-rest_laufzeit):\n",
    "    col.append('red')\n",
    "for i in range(rest_laufzeit):\n",
    "    col.append('green')\n"
   ]
  },
  {
   "cell_type": "code",
   "execution_count": 63,
   "metadata": {},
   "outputs": [],
   "source": [
    "col_edge = []\n",
    "for i in range(laufzeit-rest_laufzeit):\n",
    "    col_edge.append('darkred')\n",
    "for i in range(rest_laufzeit):\n",
    "    col_edge.append('darkgreen')"
   ]
  },
  {
   "cell_type": "code",
   "execution_count": 66,
   "metadata": {},
   "outputs": [
    {
     "data": {
      "text/plain": [
       "['red', 'red', 'red', 'red', 'red', 'red', 'red', 'red', 'red', 'red', 'green']"
      ]
     },
     "execution_count": 66,
     "metadata": {},
     "output_type": "execute_result"
    }
   ],
   "source": [
    "col"
   ]
  },
  {
   "cell_type": "code",
   "execution_count": 39,
   "metadata": {},
   "outputs": [
    {
     "data": {
      "text/plain": [
       "[Text(0, 0, 'G1'),\n",
       " Text(0, 0, 'G2'),\n",
       " Text(0, 0, 'G3'),\n",
       " Text(0, 0, 'G4'),\n",
       " Text(0, 0, 'G5')]"
      ]
     },
     "execution_count": 39,
     "metadata": {},
     "output_type": "execute_result"
    },
    {
     "data": {
      "image/png": "[encoded data removed]",
      "text/plain": [
       "<Figure size 432x288 with 1 Axes>"
      ]
     },
     "metadata": {
      "needs_background": "light"
     },
     "output_type": "display_data"
    }
   ],
   "source": [
    "#import plotly.plotly as py\n",
    "#import plotly.tools as tls\n",
    "\n",
    "import matplotlib.pyplot as plt\n",
    "import numpy as np\n",
    "\n",
    "mpl_fig = plt.figure()\n",
    "ax = mpl_fig.add_subplot(111)\n",
    "\n",
    "N = 5\n",
    "menMeans = (20, 35, 30, 35, 27)\n",
    "womenMeans = (25, 32, 34, 20, 25)\n",
    "menStd = (2, 3, 4, 1, 2)\n",
    "womenStd = (3, 5, 2, 3, 3)\n",
    "ind = np.arange(N)    # the x locations for the groups\n",
    "width = 0.35       # the width of the bars: can also be len(x) sequence\n",
    "\n",
    "p1 = ax.bar(ind, menMeans, width, color=(0.2588,0.4433,1.0))\n",
    "p2 = ax.bar(ind, womenMeans, width, color=(1.0,0.5,0.62),\n",
    "             bottom=menMeans)\n",
    "ax.set_ylabel('Scores')\n",
    "ax.set_xlabel('Groups')\n",
    "ax.set_title('Scores by group and gender')\n",
    "\n",
    "ax.set_xticks(ind + width/2.)\n",
    "ax.set_yticks(np.arange(0, 81, 10))\n",
    "ax.set_xticklabels(('G1', 'G2', 'G3', 'G4', 'G5'))\n",
    "\n",
    "#plotly_fig = tls.mpl_to_plotly( mpl_fig )\n",
    "\n",
    "# For Legend\n",
    "#plotly_fig[\"layout\"][\"showlegend\"] = True\n",
    "#plotly_fig[\"data\"][0][\"name\"] = \"Men\"\n",
    "#plotly_fig[\"data\"][1][\"name\"] = \"Women\"\n",
    "#py.iplot(plotly_fig, filename='stacked-bar-chart')"
   ]
  },
  {
   "cell_type": "code",
   "execution_count": 6,
   "metadata": {},
   "outputs": [
    {
     "data": {
      "text/plain": [
       "1515500.44"
      ]
     },
     "execution_count": 6,
     "metadata": {},
     "output_type": "execute_result"
    }
   ],
   "source": [
    "data.loc[data['Hiebssatz Kennzahlty']=='JHS', 'Summe'].sum()"
   ]
  },
  {
   "cell_type": "code",
   "execution_count": 40,
   "metadata": {
    "scrolled": false
   },
   "outputs": [],
   "source": [
    "es, hs, bilz = obf_es.filter_data([0], group=True)"
   ]
  },
  {
   "cell_type": "code",
   "execution_count": 41,
   "metadata": {},
   "outputs": [
    {
     "data": {
      "text/plain": [
       "1515500.44"
      ]
     },
     "execution_count": 41,
     "metadata": {},
     "output_type": "execute_result"
    }
   ],
   "source": [
    "hs['Summe'].sum()"
   ]
  },
  {
   "cell_type": "code",
   "execution_count": 42,
   "metadata": {},
   "outputs": [
    {
     "data": {
      "text/plain": [
       "2018"
      ]
     },
     "execution_count": 42,
     "metadata": {},
     "output_type": "execute_result"
    }
   ],
   "source": [
    "data['Jahr'].max()"
   ]
  },
  {
   "cell_type": "code",
   "execution_count": 43,
   "metadata": {},
   "outputs": [
    {
     "data": {
      "text/plain": [
       "137772.76727272727"
      ]
     },
     "execution_count": 43,
     "metadata": {},
     "output_type": "execute_result"
    }
   ],
   "source": [
    "hs['Summe'].sum()/hs['Summe'].shape[0] "
   ]
  },
  {
   "cell_type": "code",
   "execution_count": 44,
   "metadata": {},
   "outputs": [
    {
     "data": {
      "text/plain": [
       "79607.29272727271"
      ]
     },
     "execution_count": 44,
     "metadata": {},
     "output_type": "execute_result"
    }
   ],
   "source": [
    "(hs['ENLH'].sum()+hs['ENNH'].sum())/hs['Summe'].shape[0]"
   ]
  },
  {
   "cell_type": "code",
   "execution_count": 45,
   "metadata": {},
   "outputs": [
    {
     "data": {
      "text/plain": [
       "58165.47454545454"
      ]
     },
     "execution_count": 45,
     "metadata": {},
     "output_type": "execute_result"
    }
   ],
   "source": [
    "(hs['VNLH'].sum()+hs['VNNH'].sum())/hs['Summe'].shape[0]"
   ]
  },
  {
   "cell_type": "code",
   "execution_count": 46,
   "metadata": {},
   "outputs": [
    {
     "data": {
      "text/plain": [
       "11"
      ]
     },
     "execution_count": 46,
     "metadata": {},
     "output_type": "execute_result"
    }
   ],
   "source": [
    "hs['Summe'].shape[0] "
   ]
  },
  {
   "cell_type": "code",
   "execution_count": 51,
   "metadata": {},
   "outputs": [
    {
     "data": {
      "text/html": [
       "<div>\n",
       "<style scoped>\n",
       "    .dataframe tbody tr th:only-of-type {\n",
       "        vertical-align: middle;\n",
       "    }\n",
       "\n",
       "    .dataframe tbody tr th {\n",
       "        vertical-align: top;\n",
       "    }\n",
       "\n",
       "    .dataframe thead th {\n",
       "        text-align: right;\n",
       "    }\n",
       "</style>\n",
       "<table border=\"1\" class=\"dataframe\">\n",
       "  <thead>\n",
       "    <tr style=\"text-align: right;\">\n",
       "      <th></th>\n",
       "      <th>Mandant</th>\n",
       "      <th>Forstbetrieb</th>\n",
       "      <th>Teiloperats-ID</th>\n",
       "      <th>Forstrevier</th>\n",
       "      <th>Betriebsklasse</th>\n",
       "      <th>Umtriebszeit</th>\n",
       "      <th>Betriebsklassenbez</th>\n",
       "      <th>ENLH</th>\n",
       "      <th>ENNH</th>\n",
       "      <th>VNLH</th>\n",
       "      <th>VNNH</th>\n",
       "      <th>Summe</th>\n",
       "      <th>LfztJahre</th>\n",
       "      <th>Einforstung</th>\n",
       "      <th>Debitor</th>\n",
       "      <th>Angelegt von</th>\n",
       "      <th>Geändert von</th>\n",
       "      <th>Debitor.1</th>\n",
       "      <th>TO-Bezeichnung</th>\n",
       "      <th>Status</th>\n",
       "    </tr>\n",
       "    <tr>\n",
       "      <th>Jahr</th>\n",
       "      <th></th>\n",
       "      <th></th>\n",
       "      <th></th>\n",
       "      <th></th>\n",
       "      <th></th>\n",
       "      <th></th>\n",
       "      <th></th>\n",
       "      <th></th>\n",
       "      <th></th>\n",
       "      <th></th>\n",
       "      <th></th>\n",
       "      <th></th>\n",
       "      <th></th>\n",
       "      <th></th>\n",
       "      <th></th>\n",
       "      <th></th>\n",
       "      <th></th>\n",
       "      <th></th>\n",
       "      <th></th>\n",
       "      <th></th>\n",
       "    </tr>\n",
       "  </thead>\n",
       "  <tbody>\n",
       "    <tr>\n",
       "      <th>2008</th>\n",
       "      <td>26</td>\n",
       "      <td>4446</td>\n",
       "      <td>27248</td>\n",
       "      <td>197</td>\n",
       "      <td>234460</td>\n",
       "      <td>3280</td>\n",
       "      <td>0.0</td>\n",
       "      <td>21977.93</td>\n",
       "      <td>3692.09</td>\n",
       "      <td>13512.94</td>\n",
       "      <td>6117.08</td>\n",
       "      <td>45300.04</td>\n",
       "      <td>286</td>\n",
       "      <td>0.0</td>\n",
       "      <td>5731492</td>\n",
       "      <td>0.0</td>\n",
       "      <td>0.0</td>\n",
       "      <td>5731492</td>\n",
       "      <td>0</td>\n",
       "      <td>52</td>\n",
       "    </tr>\n",
       "    <tr>\n",
       "      <th>2009</th>\n",
       "      <td>61</td>\n",
       "      <td>10431</td>\n",
       "      <td>63298</td>\n",
       "      <td>302</td>\n",
       "      <td>550060</td>\n",
       "      <td>7580</td>\n",
       "      <td>0.0</td>\n",
       "      <td>55827.93</td>\n",
       "      <td>7042.09</td>\n",
       "      <td>30752.94</td>\n",
       "      <td>11277.08</td>\n",
       "      <td>104900.04</td>\n",
       "      <td>671</td>\n",
       "      <td>0.0</td>\n",
       "      <td>13446962</td>\n",
       "      <td>0.0</td>\n",
       "      <td>0.0</td>\n",
       "      <td>13446962</td>\n",
       "      <td>35</td>\n",
       "      <td>122</td>\n",
       "    </tr>\n",
       "    <tr>\n",
       "      <th>2010</th>\n",
       "      <td>115</td>\n",
       "      <td>19665</td>\n",
       "      <td>119944</td>\n",
       "      <td>920</td>\n",
       "      <td>1037324</td>\n",
       "      <td>15060</td>\n",
       "      <td>0.0</td>\n",
       "      <td>71497.93</td>\n",
       "      <td>15962.09</td>\n",
       "      <td>42502.94</td>\n",
       "      <td>21737.08</td>\n",
       "      <td>151700.04</td>\n",
       "      <td>1265</td>\n",
       "      <td>0.0</td>\n",
       "      <td>25350830</td>\n",
       "      <td>0.0</td>\n",
       "      <td>0.0</td>\n",
       "      <td>25350830</td>\n",
       "      <td>143</td>\n",
       "      <td>230</td>\n",
       "    </tr>\n",
       "    <tr>\n",
       "      <th>2011</th>\n",
       "      <td>115</td>\n",
       "      <td>19665</td>\n",
       "      <td>119944</td>\n",
       "      <td>920</td>\n",
       "      <td>1037324</td>\n",
       "      <td>15060</td>\n",
       "      <td>0.0</td>\n",
       "      <td>71497.93</td>\n",
       "      <td>15962.09</td>\n",
       "      <td>42502.94</td>\n",
       "      <td>21737.08</td>\n",
       "      <td>151700.04</td>\n",
       "      <td>1265</td>\n",
       "      <td>0.0</td>\n",
       "      <td>25350830</td>\n",
       "      <td>0.0</td>\n",
       "      <td>0.0</td>\n",
       "      <td>25350830</td>\n",
       "      <td>143</td>\n",
       "      <td>230</td>\n",
       "    </tr>\n",
       "    <tr>\n",
       "      <th>2012</th>\n",
       "      <td>115</td>\n",
       "      <td>19665</td>\n",
       "      <td>119944</td>\n",
       "      <td>920</td>\n",
       "      <td>1037324</td>\n",
       "      <td>15060</td>\n",
       "      <td>0.0</td>\n",
       "      <td>71497.93</td>\n",
       "      <td>15962.09</td>\n",
       "      <td>42502.94</td>\n",
       "      <td>21737.08</td>\n",
       "      <td>151700.04</td>\n",
       "      <td>1265</td>\n",
       "      <td>0.0</td>\n",
       "      <td>25350830</td>\n",
       "      <td>0.0</td>\n",
       "      <td>0.0</td>\n",
       "      <td>25350830</td>\n",
       "      <td>143</td>\n",
       "      <td>230</td>\n",
       "    </tr>\n",
       "    <tr>\n",
       "      <th>2013</th>\n",
       "      <td>115</td>\n",
       "      <td>19665</td>\n",
       "      <td>119944</td>\n",
       "      <td>920</td>\n",
       "      <td>1037324</td>\n",
       "      <td>15060</td>\n",
       "      <td>0.0</td>\n",
       "      <td>71497.93</td>\n",
       "      <td>15962.09</td>\n",
       "      <td>42502.94</td>\n",
       "      <td>21737.08</td>\n",
       "      <td>151700.04</td>\n",
       "      <td>1265</td>\n",
       "      <td>0.0</td>\n",
       "      <td>25350830</td>\n",
       "      <td>0.0</td>\n",
       "      <td>0.0</td>\n",
       "      <td>25350830</td>\n",
       "      <td>143</td>\n",
       "      <td>230</td>\n",
       "    </tr>\n",
       "    <tr>\n",
       "      <th>2014</th>\n",
       "      <td>115</td>\n",
       "      <td>19665</td>\n",
       "      <td>119944</td>\n",
       "      <td>920</td>\n",
       "      <td>1037324</td>\n",
       "      <td>15060</td>\n",
       "      <td>0.0</td>\n",
       "      <td>71497.93</td>\n",
       "      <td>15962.09</td>\n",
       "      <td>42502.94</td>\n",
       "      <td>21737.08</td>\n",
       "      <td>151700.04</td>\n",
       "      <td>1265</td>\n",
       "      <td>0.0</td>\n",
       "      <td>25350830</td>\n",
       "      <td>0.0</td>\n",
       "      <td>0.0</td>\n",
       "      <td>25350830</td>\n",
       "      <td>143</td>\n",
       "      <td>230</td>\n",
       "    </tr>\n",
       "    <tr>\n",
       "      <th>2015</th>\n",
       "      <td>115</td>\n",
       "      <td>19665</td>\n",
       "      <td>119944</td>\n",
       "      <td>920</td>\n",
       "      <td>1037324</td>\n",
       "      <td>15060</td>\n",
       "      <td>0.0</td>\n",
       "      <td>71497.93</td>\n",
       "      <td>15962.09</td>\n",
       "      <td>42502.94</td>\n",
       "      <td>21737.08</td>\n",
       "      <td>151700.04</td>\n",
       "      <td>1265</td>\n",
       "      <td>0.0</td>\n",
       "      <td>25350830</td>\n",
       "      <td>0.0</td>\n",
       "      <td>0.0</td>\n",
       "      <td>25350830</td>\n",
       "      <td>143</td>\n",
       "      <td>230</td>\n",
       "    </tr>\n",
       "    <tr>\n",
       "      <th>2016</th>\n",
       "      <td>115</td>\n",
       "      <td>19665</td>\n",
       "      <td>119944</td>\n",
       "      <td>920</td>\n",
       "      <td>1037324</td>\n",
       "      <td>15060</td>\n",
       "      <td>0.0</td>\n",
       "      <td>71497.93</td>\n",
       "      <td>15962.09</td>\n",
       "      <td>42502.94</td>\n",
       "      <td>21737.08</td>\n",
       "      <td>151700.04</td>\n",
       "      <td>1265</td>\n",
       "      <td>0.0</td>\n",
       "      <td>25350830</td>\n",
       "      <td>0.0</td>\n",
       "      <td>0.0</td>\n",
       "      <td>25350830</td>\n",
       "      <td>143</td>\n",
       "      <td>230</td>\n",
       "    </tr>\n",
       "    <tr>\n",
       "      <th>2017</th>\n",
       "      <td>115</td>\n",
       "      <td>19665</td>\n",
       "      <td>119944</td>\n",
       "      <td>920</td>\n",
       "      <td>1037324</td>\n",
       "      <td>15060</td>\n",
       "      <td>0.0</td>\n",
       "      <td>71497.93</td>\n",
       "      <td>15962.09</td>\n",
       "      <td>42502.94</td>\n",
       "      <td>21737.08</td>\n",
       "      <td>151700.04</td>\n",
       "      <td>1265</td>\n",
       "      <td>0.0</td>\n",
       "      <td>25350830</td>\n",
       "      <td>0.0</td>\n",
       "      <td>0.0</td>\n",
       "      <td>25350830</td>\n",
       "      <td>143</td>\n",
       "      <td>230</td>\n",
       "    </tr>\n",
       "    <tr>\n",
       "      <th>2018</th>\n",
       "      <td>115</td>\n",
       "      <td>19665</td>\n",
       "      <td>119944</td>\n",
       "      <td>920</td>\n",
       "      <td>1037324</td>\n",
       "      <td>15060</td>\n",
       "      <td>0.0</td>\n",
       "      <td>71497.93</td>\n",
       "      <td>15962.09</td>\n",
       "      <td>42502.94</td>\n",
       "      <td>21737.08</td>\n",
       "      <td>151700.04</td>\n",
       "      <td>1265</td>\n",
       "      <td>0.0</td>\n",
       "      <td>25350830</td>\n",
       "      <td>0.0</td>\n",
       "      <td>0.0</td>\n",
       "      <td>25350830</td>\n",
       "      <td>143</td>\n",
       "      <td>230</td>\n",
       "    </tr>\n",
       "  </tbody>\n",
       "</table>\n",
       "</div>"
      ],
      "text/plain": [
       "      Mandant  Forstbetrieb  Teiloperats-ID  Forstrevier  Betriebsklasse  \\\n",
       "Jahr                                                                       \n",
       "2008       26          4446           27248          197          234460   \n",
       "2009       61         10431           63298          302          550060   \n",
       "2010      115         19665          119944          920         1037324   \n",
       "2011      115         19665          119944          920         1037324   \n",
       "2012      115         19665          119944          920         1037324   \n",
       "2013      115         19665          119944          920         1037324   \n",
       "2014      115         19665          119944          920         1037324   \n",
       "2015      115         19665          119944          920         1037324   \n",
       "2016      115         19665          119944          920         1037324   \n",
       "2017      115         19665          119944          920         1037324   \n",
       "2018      115         19665          119944          920         1037324   \n",
       "\n",
       "      Umtriebszeit  Betriebsklassenbez      ENLH      ENNH      VNLH  \\\n",
       "Jahr                                                                   \n",
       "2008          3280                 0.0  21977.93   3692.09  13512.94   \n",
       "2009          7580                 0.0  55827.93   7042.09  30752.94   \n",
       "2010         15060                 0.0  71497.93  15962.09  42502.94   \n",
       "2011         15060                 0.0  71497.93  15962.09  42502.94   \n",
       "2012         15060                 0.0  71497.93  15962.09  42502.94   \n",
       "2013         15060                 0.0  71497.93  15962.09  42502.94   \n",
       "2014         15060                 0.0  71497.93  15962.09  42502.94   \n",
       "2015         15060                 0.0  71497.93  15962.09  42502.94   \n",
       "2016         15060                 0.0  71497.93  15962.09  42502.94   \n",
       "2017         15060                 0.0  71497.93  15962.09  42502.94   \n",
       "2018         15060                 0.0  71497.93  15962.09  42502.94   \n",
       "\n",
       "          VNNH      Summe  LfztJahre  Einforstung   Debitor  Angelegt von  \\\n",
       "Jahr                                                                        \n",
       "2008   6117.08   45300.04        286          0.0   5731492           0.0   \n",
       "2009  11277.08  104900.04        671          0.0  13446962           0.0   \n",
       "2010  21737.08  151700.04       1265          0.0  25350830           0.0   \n",
       "2011  21737.08  151700.04       1265          0.0  25350830           0.0   \n",
       "2012  21737.08  151700.04       1265          0.0  25350830           0.0   \n",
       "2013  21737.08  151700.04       1265          0.0  25350830           0.0   \n",
       "2014  21737.08  151700.04       1265          0.0  25350830           0.0   \n",
       "2015  21737.08  151700.04       1265          0.0  25350830           0.0   \n",
       "2016  21737.08  151700.04       1265          0.0  25350830           0.0   \n",
       "2017  21737.08  151700.04       1265          0.0  25350830           0.0   \n",
       "2018  21737.08  151700.04       1265          0.0  25350830           0.0   \n",
       "\n",
       "      Geändert von  Debitor.1  TO-Bezeichnung  Status  \n",
       "Jahr                                                   \n",
       "2008           0.0    5731492               0      52  \n",
       "2009           0.0   13446962              35     122  \n",
       "2010           0.0   25350830             143     230  \n",
       "2011           0.0   25350830             143     230  \n",
       "2012           0.0   25350830             143     230  \n",
       "2013           0.0   25350830             143     230  \n",
       "2014           0.0   25350830             143     230  \n",
       "2015           0.0   25350830             143     230  \n",
       "2016           0.0   25350830             143     230  \n",
       "2017           0.0   25350830             143     230  \n",
       "2018           0.0   25350830             143     230  "
      ]
     },
     "execution_count": 51,
     "metadata": {},
     "output_type": "execute_result"
    }
   ],
   "source": [
    "hs"
   ]
  },
  {
   "cell_type": "code",
   "execution_count": 52,
   "metadata": {},
   "outputs": [
    {
     "data": {
      "text/plain": [
       "151700.03999999998"
      ]
     },
     "execution_count": 52,
     "metadata": {},
     "output_type": "execute_result"
    }
   ],
   "source": [
    "hs.loc[data['Jahr'].max(), 'Summe']"
   ]
  },
  {
   "cell_type": "code",
   "execution_count": null,
   "metadata": {},
   "outputs": [],
   "source": []
  }
 ],
 "metadata": {
  "kernelspec": {
   "display_name": "Python 3",
   "language": "python",
   "name": "python3"
  },
  "language_info": {
   "codemirror_mode": {
    "name": "ipython",
    "version": 3
   },
   "file_extension": ".py",
   "mimetype": "text/x-python",
   "name": "python",
   "nbconvert_exporter": "python",
   "pygments_lexer": "ipython3",
   "version": "3.6.7"
  }
 },
 "nbformat": 4,
 "nbformat_minor": 2
}
